{
 "cells": [
  {
   "cell_type": "code",
   "execution_count": 1,
   "id": "231ec97e",
   "metadata": {},
   "outputs": [],
   "source": [
    "#Import important libraries \n",
    "import pandas as pd\n",
    "import numpy as np\n",
    "import matplotlib.pyplot as plt\n",
    "import seaborn as sns\n",
    "import warnings \n",
    "warnings.filterwarnings(\"ignore\")"
   ]
  },
  {
   "cell_type": "code",
   "execution_count": 2,
   "id": "91645ca6",
   "metadata": {},
   "outputs": [
    {
     "data": {
      "text/html": [
       "<div>\n",
       "<style scoped>\n",
       "    .dataframe tbody tr th:only-of-type {\n",
       "        vertical-align: middle;\n",
       "    }\n",
       "\n",
       "    .dataframe tbody tr th {\n",
       "        vertical-align: top;\n",
       "    }\n",
       "\n",
       "    .dataframe thead th {\n",
       "        text-align: right;\n",
       "    }\n",
       "</style>\n",
       "<table border=\"1\" class=\"dataframe\">\n",
       "  <thead>\n",
       "    <tr style=\"text-align: right;\">\n",
       "      <th></th>\n",
       "      <th>index</th>\n",
       "      <th>id</th>\n",
       "      <th>firstname</th>\n",
       "      <th>surname</th>\n",
       "      <th>born</th>\n",
       "      <th>died</th>\n",
       "      <th>bornCountry</th>\n",
       "      <th>bornCountryCode</th>\n",
       "      <th>bornCity</th>\n",
       "      <th>diedCountry</th>\n",
       "      <th>...</th>\n",
       "      <th>diedCity</th>\n",
       "      <th>gender</th>\n",
       "      <th>year</th>\n",
       "      <th>category</th>\n",
       "      <th>overallMotivation</th>\n",
       "      <th>share</th>\n",
       "      <th>motivation</th>\n",
       "      <th>name</th>\n",
       "      <th>city</th>\n",
       "      <th>country</th>\n",
       "    </tr>\n",
       "  </thead>\n",
       "  <tbody>\n",
       "    <tr>\n",
       "      <th>0</th>\n",
       "      <td>0</td>\n",
       "      <td>846</td>\n",
       "      <td>Elinor</td>\n",
       "      <td>Ostrom</td>\n",
       "      <td>8/7/1933</td>\n",
       "      <td>6/12/2012</td>\n",
       "      <td>USA</td>\n",
       "      <td>US</td>\n",
       "      <td>Los Angeles, CA</td>\n",
       "      <td>USA</td>\n",
       "      <td>...</td>\n",
       "      <td>Bloomington, IN</td>\n",
       "      <td>female</td>\n",
       "      <td>2009.0</td>\n",
       "      <td>economics</td>\n",
       "      <td>NaN</td>\n",
       "      <td>2.0</td>\n",
       "      <td>\"for her analysis of economic governance, espe...</td>\n",
       "      <td>Indiana University</td>\n",
       "      <td>Bloomington, IN</td>\n",
       "      <td>USA</td>\n",
       "    </tr>\n",
       "    <tr>\n",
       "      <th>1</th>\n",
       "      <td>1</td>\n",
       "      <td>846</td>\n",
       "      <td>Elinor</td>\n",
       "      <td>Ostrom</td>\n",
       "      <td>8/7/1933</td>\n",
       "      <td>6/12/2012</td>\n",
       "      <td>USA</td>\n",
       "      <td>US</td>\n",
       "      <td>Los Angeles, CA</td>\n",
       "      <td>USA</td>\n",
       "      <td>...</td>\n",
       "      <td>Bloomington, IN</td>\n",
       "      <td>female</td>\n",
       "      <td>2009.0</td>\n",
       "      <td>economics</td>\n",
       "      <td>NaN</td>\n",
       "      <td>2.0</td>\n",
       "      <td>\"for her analysis of economic governance, espe...</td>\n",
       "      <td>Arizona State University</td>\n",
       "      <td>Tempe, AZ</td>\n",
       "      <td>USA</td>\n",
       "    </tr>\n",
       "    <tr>\n",
       "      <th>2</th>\n",
       "      <td>2</td>\n",
       "      <td>783</td>\n",
       "      <td>Wangari Muta</td>\n",
       "      <td>Maathai</td>\n",
       "      <td>4/1/1940</td>\n",
       "      <td>9/25/2011</td>\n",
       "      <td>Kenya</td>\n",
       "      <td>KE</td>\n",
       "      <td>Nyeri</td>\n",
       "      <td>Kenya</td>\n",
       "      <td>...</td>\n",
       "      <td>Nairobi</td>\n",
       "      <td>female</td>\n",
       "      <td>2004.0</td>\n",
       "      <td>peace</td>\n",
       "      <td>NaN</td>\n",
       "      <td>1.0</td>\n",
       "      <td>\"for her contribution to sustainable developme...</td>\n",
       "      <td>NaN</td>\n",
       "      <td>NaN</td>\n",
       "      <td>NaN</td>\n",
       "    </tr>\n",
       "    <tr>\n",
       "      <th>3</th>\n",
       "      <td>3</td>\n",
       "      <td>230</td>\n",
       "      <td>Dorothy Crowfoot</td>\n",
       "      <td>Hodgkin</td>\n",
       "      <td>5/12/1910</td>\n",
       "      <td>7/29/1994</td>\n",
       "      <td>Egypt</td>\n",
       "      <td>EG</td>\n",
       "      <td>Cairo</td>\n",
       "      <td>United Kingdom</td>\n",
       "      <td>...</td>\n",
       "      <td>Shipston-on-Stour</td>\n",
       "      <td>female</td>\n",
       "      <td>1964.0</td>\n",
       "      <td>chemistry</td>\n",
       "      <td>NaN</td>\n",
       "      <td>1.0</td>\n",
       "      <td>\"for her determinations by X-ray techniques of...</td>\n",
       "      <td>University of Oxford, Royal Society</td>\n",
       "      <td>Oxford</td>\n",
       "      <td>United Kingdom</td>\n",
       "    </tr>\n",
       "    <tr>\n",
       "      <th>4</th>\n",
       "      <td>4</td>\n",
       "      <td>918</td>\n",
       "      <td>Youyou</td>\n",
       "      <td>Tu</td>\n",
       "      <td>12/30/1930</td>\n",
       "      <td>0000-00-00</td>\n",
       "      <td>China</td>\n",
       "      <td>CN</td>\n",
       "      <td>Zhejiang Ningbo</td>\n",
       "      <td>NaN</td>\n",
       "      <td>...</td>\n",
       "      <td>NaN</td>\n",
       "      <td>female</td>\n",
       "      <td>2015.0</td>\n",
       "      <td>medicine</td>\n",
       "      <td>NaN</td>\n",
       "      <td>2.0</td>\n",
       "      <td>\"for her discoveries concerning a novel therap...</td>\n",
       "      <td>China Academy of Traditional Chinese Medicine</td>\n",
       "      <td>Beijing</td>\n",
       "      <td>China</td>\n",
       "    </tr>\n",
       "  </tbody>\n",
       "</table>\n",
       "<p>5 rows × 21 columns</p>\n",
       "</div>"
      ],
      "text/plain": [
       "   index   id         firstname  surname        born        died bornCountry  \\\n",
       "0      0  846            Elinor   Ostrom    8/7/1933   6/12/2012         USA   \n",
       "1      1  846            Elinor   Ostrom    8/7/1933   6/12/2012         USA   \n",
       "2      2  783      Wangari Muta  Maathai    4/1/1940   9/25/2011       Kenya   \n",
       "3      3  230  Dorothy Crowfoot  Hodgkin   5/12/1910   7/29/1994       Egypt   \n",
       "4      4  918            Youyou       Tu  12/30/1930  0000-00-00       China   \n",
       "\n",
       "  bornCountryCode         bornCity     diedCountry  ...           diedCity  \\\n",
       "0              US  Los Angeles, CA             USA  ...    Bloomington, IN   \n",
       "1              US  Los Angeles, CA             USA  ...    Bloomington, IN   \n",
       "2              KE            Nyeri           Kenya  ...            Nairobi   \n",
       "3              EG            Cairo  United Kingdom  ...  Shipston-on-Stour   \n",
       "4              CN  Zhejiang Ningbo             NaN  ...                NaN   \n",
       "\n",
       "   gender    year   category overallMotivation share  \\\n",
       "0  female  2009.0  economics               NaN   2.0   \n",
       "1  female  2009.0  economics               NaN   2.0   \n",
       "2  female  2004.0      peace               NaN   1.0   \n",
       "3  female  1964.0  chemistry               NaN   1.0   \n",
       "4  female  2015.0   medicine               NaN   2.0   \n",
       "\n",
       "                                          motivation  \\\n",
       "0  \"for her analysis of economic governance, espe...   \n",
       "1  \"for her analysis of economic governance, espe...   \n",
       "2  \"for her contribution to sustainable developme...   \n",
       "3  \"for her determinations by X-ray techniques of...   \n",
       "4  \"for her discoveries concerning a novel therap...   \n",
       "\n",
       "                                            name             city  \\\n",
       "0                             Indiana University  Bloomington, IN   \n",
       "1                       Arizona State University        Tempe, AZ   \n",
       "2                                            NaN              NaN   \n",
       "3            University of Oxford, Royal Society           Oxford   \n",
       "4  China Academy of Traditional Chinese Medicine          Beijing   \n",
       "\n",
       "          country  \n",
       "0             USA  \n",
       "1             USA  \n",
       "2             NaN  \n",
       "3  United Kingdom  \n",
       "4           China  \n",
       "\n",
       "[5 rows x 21 columns]"
      ]
     },
     "execution_count": 2,
     "metadata": {},
     "output_type": "execute_result"
    }
   ],
   "source": [
    "nobel = pd.read_csv(\"C:\\\\Users\\\\karth\\\\Desktop\\\\nobel_prize_by_winner.csv\")\n",
    "nobel.head()"
   ]
  },
  {
   "cell_type": "code",
   "execution_count": 3,
   "id": "4410c67f",
   "metadata": {
    "scrolled": true
   },
   "outputs": [
    {
     "name": "stdout",
     "output_type": "stream",
     "text": [
      "<class 'pandas.core.frame.DataFrame'>\n",
      "RangeIndex: 972 entries, 0 to 971\n",
      "Data columns (total 21 columns):\n",
      " #   Column             Non-Null Count  Dtype  \n",
      "---  ------             --------------  -----  \n",
      " 0   index              972 non-null    int64  \n",
      " 1   id                 972 non-null    int64  \n",
      " 2   firstname          966 non-null    object \n",
      " 3   surname            936 non-null    object \n",
      " 4   born               946 non-null    object \n",
      " 5   died               946 non-null    object \n",
      " 6   bornCountry        940 non-null    object \n",
      " 7   bornCountryCode    940 non-null    object \n",
      " 8   bornCity           938 non-null    object \n",
      " 9   diedCountry        601 non-null    object \n",
      " 10  diedCountryCode    600 non-null    object \n",
      " 11  diedCity           595 non-null    object \n",
      " 12  gender             972 non-null    object \n",
      " 13  year               966 non-null    float64\n",
      " 14  category           966 non-null    object \n",
      " 15  overallMotivation  16 non-null     object \n",
      " 16  share              966 non-null    float64\n",
      " 17  motivation         878 non-null    object \n",
      " 18  name               720 non-null    object \n",
      " 19  city               714 non-null    object \n",
      " 20  country            714 non-null    object \n",
      "dtypes: float64(2), int64(2), object(17)\n",
      "memory usage: 159.6+ KB\n"
     ]
    }
   ],
   "source": [
    "nobel.info() "
   ]
  },
  {
   "cell_type": "code",
   "execution_count": 4,
   "id": "4737b27c",
   "metadata": {},
   "outputs": [
    {
     "data": {
      "text/plain": [
       "(972, 21)"
      ]
     },
     "execution_count": 4,
     "metadata": {},
     "output_type": "execute_result"
    }
   ],
   "source": [
    "nobel.shape"
   ]
  },
  {
   "cell_type": "markdown",
   "id": "ba86aa09",
   "metadata": {},
   "source": [
    "### Data handling and cleaning "
   ]
  },
  {
   "cell_type": "code",
   "execution_count": 5,
   "id": "443e1c88",
   "metadata": {},
   "outputs": [
    {
     "data": {
      "text/plain": [
       "index                  0\n",
       "id                     0\n",
       "firstname              6\n",
       "surname               36\n",
       "born                  26\n",
       "died                  26\n",
       "bornCountry           32\n",
       "bornCountryCode       32\n",
       "bornCity              34\n",
       "diedCountry          371\n",
       "diedCountryCode      372\n",
       "diedCity             377\n",
       "gender                 0\n",
       "year                   6\n",
       "category               6\n",
       "overallMotivation    956\n",
       "share                  6\n",
       "motivation            94\n",
       "name                 252\n",
       "city                 258\n",
       "country              258\n",
       "dtype: int64"
      ]
     },
     "execution_count": 5,
     "metadata": {},
     "output_type": "execute_result"
    }
   ],
   "source": [
    "nobel.isnull().sum()"
   ]
  },
  {
   "cell_type": "markdown",
   "id": "e6151e6e",
   "metadata": {},
   "source": [
    "#### Data handling and cleaning is used to  clean the data and remove the null values in the dataset and perform a smooth explanatory\n",
    "#### data analysis \n",
    "#### And here I declare the isnull().sum() in dataset and we get all then null values from each of the column in the dataset"
   ]
  },
  {
   "cell_type": "markdown",
   "id": "d43ac7bb",
   "metadata": {},
   "source": [
    "#### Here by declaring the isnull().sum() for the \"year\" column in the nobel prize dataset ], we get the null values present \n",
    "#### in the year column"
   ]
  },
  {
   "cell_type": "code",
   "execution_count": 6,
   "id": "92d6142b",
   "metadata": {},
   "outputs": [
    {
     "data": {
      "text/plain": [
       "6"
      ]
     },
     "execution_count": 6,
     "metadata": {},
     "output_type": "execute_result"
    }
   ],
   "source": [
    "nobel.year.isnull().sum()"
   ]
  },
  {
   "cell_type": "code",
   "execution_count": 8,
   "id": "43f1e6bf",
   "metadata": {},
   "outputs": [
    {
     "data": {
      "text/plain": [
       "0.6172839506172839"
      ]
     },
     "execution_count": 8,
     "metadata": {},
     "output_type": "execute_result"
    }
   ],
   "source": [
    "### calculate the percentage of missing values in year column\n",
    "float(100.0*6/972)"
   ]
  },
  {
   "cell_type": "markdown",
   "id": "65d59135",
   "metadata": {},
   "source": [
    "### drop the records with year missing "
   ]
  },
  {
   "cell_type": "code",
   "execution_count": 9,
   "id": "08190cf2",
   "metadata": {},
   "outputs": [
    {
     "data": {
      "text/plain": [
       "(966, 21)"
      ]
     },
     "execution_count": 9,
     "metadata": {},
     "output_type": "execute_result"
    }
   ],
   "source": [
    "nobel1 = nobel[-nobel.year.isnull()].copy()\n",
    "nobel1.shape"
   ]
  },
  {
   "cell_type": "markdown",
   "id": "96f5404e",
   "metadata": {},
   "source": [
    "#### Clear the null values from the year column by declaring the above code , then runnig the above code we  get the different \n",
    "#### data shape , because we had removed the null values from the year column "
   ]
  },
  {
   "cell_type": "markdown",
   "id": "809d22a5",
   "metadata": {},
   "source": [
    "### handling missing values in share "
   ]
  },
  {
   "cell_type": "code",
   "execution_count": 10,
   "id": "253fd21f",
   "metadata": {},
   "outputs": [
    {
     "data": {
      "text/plain": [
       "30"
      ]
     },
     "execution_count": 10,
     "metadata": {},
     "output_type": "execute_result"
    }
   ],
   "source": [
    "nobel1.surname.isnull().sum()"
   ]
  },
  {
   "cell_type": "code",
   "execution_count": 11,
   "id": "36ce3a7b",
   "metadata": {},
   "outputs": [
    {
     "data": {
      "text/plain": [
       "Wilson         0.004274\n",
       "Fischer        0.004274\n",
       "Smith          0.004274\n",
       "Môller         0.003205\n",
       "Szostak        0.003205\n",
       "                 ...   \n",
       "von Behring    0.001068\n",
       "Gullstrand     0.001068\n",
       "Perrin         0.001068\n",
       "Millikan       0.001068\n",
       "Lutuli         0.001068\n",
       "Name: surname, Length: 830, dtype: float64"
      ]
     },
     "execution_count": 11,
     "metadata": {},
     "output_type": "execute_result"
    }
   ],
   "source": [
    "nobel1.surname.value_counts(normalize=True)"
   ]
  },
  {
   "cell_type": "code",
   "execution_count": 12,
   "id": "590478d4",
   "metadata": {},
   "outputs": [
    {
     "data": {
      "text/plain": [
       "88"
      ]
     },
     "execution_count": 12,
     "metadata": {},
     "output_type": "execute_result"
    }
   ],
   "source": [
    "nobel1.motivation.isnull().sum()"
   ]
  },
  {
   "cell_type": "code",
   "execution_count": 13,
   "id": "df62d35a",
   "metadata": {},
   "outputs": [
    {
     "data": {
      "text/plain": [
       "9.109730848861284"
      ]
     },
     "execution_count": 13,
     "metadata": {},
     "output_type": "execute_result"
    }
   ],
   "source": [
    "float(100.0*88/966)"
   ]
  },
  {
   "cell_type": "code",
   "execution_count": 14,
   "id": "6636aeb6",
   "metadata": {
    "scrolled": false
   },
   "outputs": [
    {
     "data": {
      "text/plain": [
       "\"for the discovery and development of the green fluorescent protein, GFP\"                                          0.005695\n",
       "\"for the discovery and the interpretation of the Cherenkov effect\"                                                 0.005695\n",
       "\"for the discovery of how chromosomes are protected by telomeres and the enzyme telomerase\"                        0.005695\n",
       "\"for mechanistic studies of DNA repair\"                                                                            0.005695\n",
       "\"for their discoveries of machinery regulating vesicle traffic, a major transport system in our cells\"             0.005695\n",
       "                                                                                                                     ...   \n",
       "\"for his discovery of the organizer effect in embryonic development\"                                               0.001139\n",
       "\"for methods of analyzing economic time series with time-varying volatility (ARCH)\"                                0.001139\n",
       "\"for methods of analyzing economic time series with common trends (cointegration)\"                                 0.001139\n",
       "\"for his discovery of the part played by the hormone of the anterior pituitary lobe in the metabolism of sugar\"    0.001139\n",
       "\"in recognition of the organization's pioneering humanitarian work on several continents\"                          0.001139\n",
       "Name: motivation, Length: 563, dtype: float64"
      ]
     },
     "execution_count": 14,
     "metadata": {},
     "output_type": "execute_result"
    }
   ],
   "source": [
    "nobel1.motivation.value_counts(normalize=True)"
   ]
  },
  {
   "cell_type": "markdown",
   "id": "4a6e3b30",
   "metadata": {},
   "source": [
    "### statistical analysis "
   ]
  },
  {
   "cell_type": "code",
   "execution_count": 15,
   "id": "8bcc94e9",
   "metadata": {},
   "outputs": [
    {
     "data": {
      "text/plain": [
       "'\"for mechanistic studies of DNA repair\"'"
      ]
     },
     "execution_count": 15,
     "metadata": {},
     "output_type": "execute_result"
    }
   ],
   "source": [
    "### find the mode of motivation in nobel1 \n",
    "motivation_mode = nobel1.motivation.mode()[0]\n",
    "motivation_mode"
   ]
  },
  {
   "cell_type": "markdown",
   "id": "30764363",
   "metadata": {},
   "source": [
    "### Here , in the data cleaning we use mean,meadian and mode to replace the null values in the \"motivation\" column and we havethe 88 null values in the \"motivation\" column and here by using the mode, I found out the most frequently used motivation in the dataset ."
   ]
  },
  {
   "cell_type": "code",
   "execution_count": 16,
   "id": "67ef6e21",
   "metadata": {},
   "outputs": [
    {
     "data": {
      "text/plain": [
       "\"for mechanistic studies of DNA repair\"                                                                                            0.096273\n",
       "\"for their discoveries of machinery regulating vesicle traffic, a major transport system in our cells\"                             0.005176\n",
       "\"for the discovery and the interpretation of the Cherenkov effect\"                                                                 0.005176\n",
       "\"for the discovery of how chromosomes are protected by telomeres and the enzyme telomerase\"                                        0.005176\n",
       "\"for the discovery of the accelerating expansion of the Universe through observations of distant supernovae\"                       0.005176\n",
       "                                                                                                                                     ...   \n",
       "\"for his invention of the polymerase chain reaction (PCR) method\"                                                                  0.001035\n",
       "\"for his invention of the method of micro-analysis of organic substances\"                                                          0.001035\n",
       "\"for his invention of automatic regulators for use in conjunction with gas accumulators for illuminating lighthouses and buoys\"    0.001035\n",
       "\"for his invention and development of the holographic method\"                                                                      0.001035\n",
       "\"in recognition of the organization's pioneering humanitarian work on several continents\"                                          0.001035\n",
       "Name: motivation, Length: 563, dtype: float64"
      ]
     },
     "execution_count": 16,
     "metadata": {},
     "output_type": "execute_result"
    }
   ],
   "source": [
    "### fill the missing values with mode value of motivation in nobel1\n",
    "nobel1.motivation.fillna(motivation_mode,inplace=True)\n",
    "nobel1.motivation.value_counts(normalize=True)"
   ]
  },
  {
   "cell_type": "markdown",
   "id": "2ad49b38",
   "metadata": {},
   "source": [
    "#### Now here we know the mode of the motivation column and we used replace the null values which are present in the \n",
    "#### \"motivation\" column by mode of the \"motivation\"."
   ]
  },
  {
   "cell_type": "code",
   "execution_count": 17,
   "id": "f5d7a43e",
   "metadata": {},
   "outputs": [
    {
     "data": {
      "text/plain": [
       "0"
      ]
     },
     "execution_count": 17,
     "metadata": {},
     "output_type": "execute_result"
    }
   ],
   "source": [
    "### now let's check the null values in motivation \n",
    "nobel1.motivation.isnull().sum()"
   ]
  },
  {
   "cell_type": "markdown",
   "id": "f16d679c",
   "metadata": {},
   "source": [
    "#### And now by replacing the null values by the mode we get the null values as zero ."
   ]
  },
  {
   "cell_type": "markdown",
   "id": "a7dccacc",
   "metadata": {},
   "source": [
    "## univariate analysis"
   ]
  },
  {
   "cell_type": "code",
   "execution_count": 18,
   "id": "223c40d5",
   "metadata": {},
   "outputs": [
    {
     "data": {
      "text/plain": [
       "count    972.000000\n",
       "mean     471.365226\n",
       "std      275.012711\n",
       "min        1.000000\n",
       "25%      230.750000\n",
       "50%      463.500000\n",
       "75%      720.250000\n",
       "max      934.000000\n",
       "Name: id, dtype: float64"
      ]
     },
     "execution_count": 18,
     "metadata": {},
     "output_type": "execute_result"
    }
   ],
   "source": [
    "nobel.id.describe()"
   ]
  },
  {
   "cell_type": "code",
   "execution_count": 19,
   "id": "c3303706",
   "metadata": {},
   "outputs": [
    {
     "data": {
      "image/png": "[encoded data removed]",
      "text/plain": [
       "<Figure size 432x288 with 1 Axes>"
      ]
     },
     "metadata": {
      "needs_background": "light"
     },
     "output_type": "display_data"
    }
   ],
   "source": [
    "nobel.id.plot.hist()\n",
    "plt.show()"
   ]
  },
  {
   "cell_type": "markdown",
   "id": "a5e5d62a",
   "metadata": {},
   "source": [
    "#### here I performed the univariate analysis for the id variable and I used the histogram to represent the id \n",
    "#### And from the above analysis I found out that the people with \"id\" 0-200 are  80-100 people .\n",
    "#### And the people with id 200-300 above hundred people and id 600 is less than when compared with all the \"id\" of the people. "
   ]
  },
  {
   "cell_type": "code",
   "execution_count": 20,
   "id": "e79aaf96",
   "metadata": {},
   "outputs": [
    {
     "data": {
      "text/plain": [
       "<function matplotlib.pyplot.show(close=None, block=None)>"
      ]
     },
     "execution_count": 20,
     "metadata": {},
     "output_type": "execute_result"
    },
    {
     "data": {
      "image/png": "[encoded data removed]",
      "text/plain": [
       "<Figure size 432x288 with 1 Axes>"
      ]
     },
     "metadata": {
      "needs_background": "light"
     },
     "output_type": "display_data"
    }
   ],
   "source": [
    "sns.boxplot(nobel.id)\n",
    "plt.show"
   ]
  },
  {
   "cell_type": "markdown",
   "id": "f227889a",
   "metadata": {},
   "source": [
    "#### Here in the above analysis I used the box plot to easy for detecting the outliers from the column \"id\"\n",
    "#### And from the adove boxplot I inferred that the median in the id column is between 400-600 and the top quartile \n",
    "#### range is between 700-800 , bottom quartile range is between 200-250 and least point or value in the id is \"zero\" and the \n",
    "#### largest point is beyond the the representing value in the boxplot and hence we can consider the largest point as the \"outlier\"."
   ]
  },
  {
   "cell_type": "code",
   "execution_count": 21,
   "id": "0831bf2c",
   "metadata": {},
   "outputs": [
    {
     "data": {
      "text/plain": [
       "837    3\n",
       "482    3\n",
       "846    2\n",
       "721    2\n",
       "270    2\n",
       "Name: id, dtype: int64"
      ]
     },
     "execution_count": 21,
     "metadata": {},
     "output_type": "execute_result"
    }
   ],
   "source": [
    "nobel['id'].value_counts().head()"
   ]
  },
  {
   "cell_type": "code",
   "execution_count": 22,
   "id": "7a81da05",
   "metadata": {},
   "outputs": [
    {
     "data": {
      "text/plain": [
       "2009.0    18\n",
       "2013.0    16\n",
       "2005.0    16\n",
       "2011.0    16\n",
       "2001.0    15\n",
       "          ..\n",
       "1919.0     4\n",
       "1914.0     3\n",
       "1924.0     3\n",
       "1918.0     2\n",
       "1916.0     1\n",
       "Name: year, Length: 113, dtype: int64"
      ]
     },
     "execution_count": 22,
     "metadata": {},
     "output_type": "execute_result"
    }
   ],
   "source": [
    "nobel['year'].value_counts()"
   ]
  },
  {
   "cell_type": "code",
   "execution_count": 23,
   "id": "a750cbd9",
   "metadata": {},
   "outputs": [
    {
     "data": {
      "image/png": "[encoded data removed]",
      "text/plain": [
       "<Figure size 432x288 with 1 Axes>"
      ]
     },
     "metadata": {
      "needs_background": "light"
     },
     "output_type": "display_data"
    }
   ],
   "source": [
    "nobel.year.plot.hist()\n",
    "plt.show()"
   ]
  },
  {
   "cell_type": "markdown",
   "id": "7d0eb764",
   "metadata": {},
   "source": [
    "#### According to the bar graph I inferred that in the year 1900 has 80 people\n"
   ]
  },
  {
   "cell_type": "code",
   "execution_count": 24,
   "id": "b5248b3b",
   "metadata": {},
   "outputs": [
    {
     "data": {
      "image/png": "[encoded data removed]",
      "text/plain": [
       "<Figure size 432x288 with 1 Axes>"
      ]
     },
     "metadata": {
      "needs_background": "light"
     },
     "output_type": "display_data"
    }
   ],
   "source": [
    "sns.boxplot(nobel.year)\n",
    "plt.show()"
   ]
  },
  {
   "cell_type": "markdown",
   "id": "42a60807",
   "metadata": {},
   "source": [
    "#### top quartile year 2000 \n",
    "#### bottom quartile between 1940 to 1960 and median is between the range year 1970 to 1980 \n",
    "#### largest point is behind 2020 and hence we can say that there is no any outlier in the year coloum"
   ]
  },
  {
   "cell_type": "code",
   "execution_count": 25,
   "id": "acbf8a2f",
   "metadata": {},
   "outputs": [
    {
     "data": {
      "text/plain": [
       "count    966.000000\n",
       "mean       2.005176\n",
       "std        0.930193\n",
       "min        1.000000\n",
       "25%        1.000000\n",
       "50%        2.000000\n",
       "75%        3.000000\n",
       "max        4.000000\n",
       "Name: share, dtype: float64"
      ]
     },
     "execution_count": 25,
     "metadata": {},
     "output_type": "execute_result"
    }
   ],
   "source": [
    "nobel['share'].describe()"
   ]
  },
  {
   "cell_type": "code",
   "execution_count": 26,
   "id": "23f27580",
   "metadata": {},
   "outputs": [
    {
     "data": {
      "image/png": "[encoded data removed]",
      "text/plain": [
       "<Figure size 432x288 with 1 Axes>"
      ]
     },
     "metadata": {
      "needs_background": "light"
     },
     "output_type": "display_data"
    }
   ],
   "source": [
    "nobel.share.plot.hist()\n",
    "plt.show()"
   ]
  },
  {
   "cell_type": "markdown",
   "id": "be4e4159",
   "metadata": {},
   "source": [
    "#### here the bar graph is showing the no of people holding a particular shares.In the bar graph we can see that 350 people hold \n",
    "#### 1 share and nearly 330 people hold 2 , nearly 230 people hold 3 and nearly 60 people hold 4. we can observe that more \n",
    "#### no of people hold one share and four share is hold by least no of people according to the graph.The number of people hold\n",
    "#### holding the shares are gradually decreasing as the number of shares increase"
   ]
  },
  {
   "cell_type": "code",
   "execution_count": 27,
   "id": "3dffea8a",
   "metadata": {},
   "outputs": [
    {
     "data": {
      "text/plain": [
       "<function matplotlib.pyplot.show(close=None, block=None)>"
      ]
     },
     "execution_count": 27,
     "metadata": {},
     "output_type": "execute_result"
    },
    {
     "data": {
      "image/png": "[encoded data removed]",
      "text/plain": [
       "<Figure size 432x288 with 1 Axes>"
      ]
     },
     "metadata": {
      "needs_background": "light"
     },
     "output_type": "display_data"
    }
   ],
   "source": [
    "sns.boxplot(nobel.share)\n",
    "plt.show"
   ]
  },
  {
   "cell_type": "code",
   "execution_count": 28,
   "id": "3f0565a4",
   "metadata": {},
   "outputs": [
    {
     "name": "stdout",
     "output_type": "stream",
     "text": [
      "Max Value 2016.0\n",
      "Min Value 1901.0\n"
     ]
    }
   ],
   "source": [
    "max=nobel[\"year\"]\n",
    "max_value=max.max()\n",
    "min=nobel[\"year\"]\n",
    "min_value=min.min()\n",
    "print(\"Max Value\",max_value)\n",
    "print(\"Min Value\",min_value)"
   ]
  },
  {
   "cell_type": "code",
   "execution_count": 29,
   "id": "a826b5e8",
   "metadata": {},
   "outputs": [],
   "source": [
    "nobel['year_str'] = nobel['year'].astype('string')\n",
    "nobel['prize_id'] = nobel['category'] + '_' + nobel['year_str']\n",
    "nobel.drop('year_str', axis=1, inplace=True)"
   ]
  },
  {
   "cell_type": "code",
   "execution_count": 30,
   "id": "365c8c65",
   "metadata": {},
   "outputs": [
    {
     "data": {
      "text/html": [
       "<div>\n",
       "<style scoped>\n",
       "    .dataframe tbody tr th:only-of-type {\n",
       "        vertical-align: middle;\n",
       "    }\n",
       "\n",
       "    .dataframe tbody tr th {\n",
       "        vertical-align: top;\n",
       "    }\n",
       "\n",
       "    .dataframe thead th {\n",
       "        text-align: right;\n",
       "    }\n",
       "</style>\n",
       "<table border=\"1\" class=\"dataframe\">\n",
       "  <thead>\n",
       "    <tr style=\"text-align: right;\">\n",
       "      <th></th>\n",
       "      <th>index</th>\n",
       "      <th>id</th>\n",
       "      <th>firstname</th>\n",
       "      <th>surname</th>\n",
       "      <th>born</th>\n",
       "      <th>died</th>\n",
       "      <th>bornCountry</th>\n",
       "      <th>bornCountryCode</th>\n",
       "      <th>bornCity</th>\n",
       "      <th>diedCountry</th>\n",
       "      <th>...</th>\n",
       "      <th>gender</th>\n",
       "      <th>year</th>\n",
       "      <th>category</th>\n",
       "      <th>overallMotivation</th>\n",
       "      <th>share</th>\n",
       "      <th>motivation</th>\n",
       "      <th>name</th>\n",
       "      <th>city</th>\n",
       "      <th>country</th>\n",
       "      <th>prize_id</th>\n",
       "    </tr>\n",
       "  </thead>\n",
       "  <tbody>\n",
       "    <tr>\n",
       "      <th>0</th>\n",
       "      <td>0</td>\n",
       "      <td>846</td>\n",
       "      <td>Elinor</td>\n",
       "      <td>Ostrom</td>\n",
       "      <td>8/7/1933</td>\n",
       "      <td>6/12/2012</td>\n",
       "      <td>USA</td>\n",
       "      <td>US</td>\n",
       "      <td>Los Angeles, CA</td>\n",
       "      <td>USA</td>\n",
       "      <td>...</td>\n",
       "      <td>female</td>\n",
       "      <td>2009.0</td>\n",
       "      <td>economics</td>\n",
       "      <td>NaN</td>\n",
       "      <td>2.0</td>\n",
       "      <td>\"for her analysis of economic governance, espe...</td>\n",
       "      <td>Indiana University</td>\n",
       "      <td>Bloomington, IN</td>\n",
       "      <td>USA</td>\n",
       "      <td>economics_2009.0</td>\n",
       "    </tr>\n",
       "    <tr>\n",
       "      <th>1</th>\n",
       "      <td>1</td>\n",
       "      <td>846</td>\n",
       "      <td>Elinor</td>\n",
       "      <td>Ostrom</td>\n",
       "      <td>8/7/1933</td>\n",
       "      <td>6/12/2012</td>\n",
       "      <td>USA</td>\n",
       "      <td>US</td>\n",
       "      <td>Los Angeles, CA</td>\n",
       "      <td>USA</td>\n",
       "      <td>...</td>\n",
       "      <td>female</td>\n",
       "      <td>2009.0</td>\n",
       "      <td>economics</td>\n",
       "      <td>NaN</td>\n",
       "      <td>2.0</td>\n",
       "      <td>\"for her analysis of economic governance, espe...</td>\n",
       "      <td>Arizona State University</td>\n",
       "      <td>Tempe, AZ</td>\n",
       "      <td>USA</td>\n",
       "      <td>economics_2009.0</td>\n",
       "    </tr>\n",
       "    <tr>\n",
       "      <th>2</th>\n",
       "      <td>2</td>\n",
       "      <td>783</td>\n",
       "      <td>Wangari Muta</td>\n",
       "      <td>Maathai</td>\n",
       "      <td>4/1/1940</td>\n",
       "      <td>9/25/2011</td>\n",
       "      <td>Kenya</td>\n",
       "      <td>KE</td>\n",
       "      <td>Nyeri</td>\n",
       "      <td>Kenya</td>\n",
       "      <td>...</td>\n",
       "      <td>female</td>\n",
       "      <td>2004.0</td>\n",
       "      <td>peace</td>\n",
       "      <td>NaN</td>\n",
       "      <td>1.0</td>\n",
       "      <td>\"for her contribution to sustainable developme...</td>\n",
       "      <td>NaN</td>\n",
       "      <td>NaN</td>\n",
       "      <td>NaN</td>\n",
       "      <td>peace_2004.0</td>\n",
       "    </tr>\n",
       "    <tr>\n",
       "      <th>3</th>\n",
       "      <td>3</td>\n",
       "      <td>230</td>\n",
       "      <td>Dorothy Crowfoot</td>\n",
       "      <td>Hodgkin</td>\n",
       "      <td>5/12/1910</td>\n",
       "      <td>7/29/1994</td>\n",
       "      <td>Egypt</td>\n",
       "      <td>EG</td>\n",
       "      <td>Cairo</td>\n",
       "      <td>United Kingdom</td>\n",
       "      <td>...</td>\n",
       "      <td>female</td>\n",
       "      <td>1964.0</td>\n",
       "      <td>chemistry</td>\n",
       "      <td>NaN</td>\n",
       "      <td>1.0</td>\n",
       "      <td>\"for her determinations by X-ray techniques of...</td>\n",
       "      <td>University of Oxford, Royal Society</td>\n",
       "      <td>Oxford</td>\n",
       "      <td>United Kingdom</td>\n",
       "      <td>chemistry_1964.0</td>\n",
       "    </tr>\n",
       "    <tr>\n",
       "      <th>4</th>\n",
       "      <td>4</td>\n",
       "      <td>918</td>\n",
       "      <td>Youyou</td>\n",
       "      <td>Tu</td>\n",
       "      <td>12/30/1930</td>\n",
       "      <td>0000-00-00</td>\n",
       "      <td>China</td>\n",
       "      <td>CN</td>\n",
       "      <td>Zhejiang Ningbo</td>\n",
       "      <td>NaN</td>\n",
       "      <td>...</td>\n",
       "      <td>female</td>\n",
       "      <td>2015.0</td>\n",
       "      <td>medicine</td>\n",
       "      <td>NaN</td>\n",
       "      <td>2.0</td>\n",
       "      <td>\"for her discoveries concerning a novel therap...</td>\n",
       "      <td>China Academy of Traditional Chinese Medicine</td>\n",
       "      <td>Beijing</td>\n",
       "      <td>China</td>\n",
       "      <td>medicine_2015.0</td>\n",
       "    </tr>\n",
       "    <tr>\n",
       "      <th>5</th>\n",
       "      <td>5</td>\n",
       "      <td>428</td>\n",
       "      <td>Barbara</td>\n",
       "      <td>McClintock</td>\n",
       "      <td>6/16/1902</td>\n",
       "      <td>9/2/1992</td>\n",
       "      <td>USA</td>\n",
       "      <td>US</td>\n",
       "      <td>Hartford, CT</td>\n",
       "      <td>USA</td>\n",
       "      <td>...</td>\n",
       "      <td>female</td>\n",
       "      <td>1983.0</td>\n",
       "      <td>medicine</td>\n",
       "      <td>NaN</td>\n",
       "      <td>1.0</td>\n",
       "      <td>\"for her discovery of mobile genetic elements\"</td>\n",
       "      <td>Cold Spring Harbor Laboratory</td>\n",
       "      <td>Cold Spring Harbor, NY</td>\n",
       "      <td>USA</td>\n",
       "      <td>medicine_1983.0</td>\n",
       "    </tr>\n",
       "    <tr>\n",
       "      <th>6</th>\n",
       "      <td>6</td>\n",
       "      <td>773</td>\n",
       "      <td>Shirin</td>\n",
       "      <td>Ebadi</td>\n",
       "      <td>6/21/1947</td>\n",
       "      <td>0000-00-00</td>\n",
       "      <td>Iran</td>\n",
       "      <td>IR</td>\n",
       "      <td>Hamadan</td>\n",
       "      <td>NaN</td>\n",
       "      <td>...</td>\n",
       "      <td>female</td>\n",
       "      <td>2003.0</td>\n",
       "      <td>peace</td>\n",
       "      <td>NaN</td>\n",
       "      <td>1.0</td>\n",
       "      <td>\"for her efforts for democracy and human right...</td>\n",
       "      <td>NaN</td>\n",
       "      <td>NaN</td>\n",
       "      <td>NaN</td>\n",
       "      <td>peace_2003.0</td>\n",
       "    </tr>\n",
       "    <tr>\n",
       "      <th>7</th>\n",
       "      <td>7</td>\n",
       "      <td>597</td>\n",
       "      <td>Grazia</td>\n",
       "      <td>Deledda</td>\n",
       "      <td>09/27/1871</td>\n",
       "      <td>8/15/1936</td>\n",
       "      <td>Italy</td>\n",
       "      <td>IT</td>\n",
       "      <td>Nuoro, Sardinia</td>\n",
       "      <td>Italy</td>\n",
       "      <td>...</td>\n",
       "      <td>female</td>\n",
       "      <td>1926.0</td>\n",
       "      <td>literature</td>\n",
       "      <td>NaN</td>\n",
       "      <td>1.0</td>\n",
       "      <td>\"for her idealistically inspired writings whic...</td>\n",
       "      <td>NaN</td>\n",
       "      <td>NaN</td>\n",
       "      <td>NaN</td>\n",
       "      <td>literature_1926.0</td>\n",
       "    </tr>\n",
       "    <tr>\n",
       "      <th>8</th>\n",
       "      <td>8</td>\n",
       "      <td>615</td>\n",
       "      <td>Gabriela</td>\n",
       "      <td>Mistral</td>\n",
       "      <td>04/07/1889</td>\n",
       "      <td>1/10/1957</td>\n",
       "      <td>Chile</td>\n",
       "      <td>CL</td>\n",
       "      <td>Vicu_a</td>\n",
       "      <td>USA</td>\n",
       "      <td>...</td>\n",
       "      <td>female</td>\n",
       "      <td>1945.0</td>\n",
       "      <td>literature</td>\n",
       "      <td>NaN</td>\n",
       "      <td>1.0</td>\n",
       "      <td>\"for her lyric poetry which, inspired by power...</td>\n",
       "      <td>NaN</td>\n",
       "      <td>NaN</td>\n",
       "      <td>NaN</td>\n",
       "      <td>literature_1945.0</td>\n",
       "    </tr>\n",
       "    <tr>\n",
       "      <th>9</th>\n",
       "      <td>9</td>\n",
       "      <td>782</td>\n",
       "      <td>Elfriede</td>\n",
       "      <td>Jelinek</td>\n",
       "      <td>10/20/1946</td>\n",
       "      <td>0000-00-00</td>\n",
       "      <td>Austria</td>\n",
       "      <td>AT</td>\n",
       "      <td>Môrzzuschlag</td>\n",
       "      <td>NaN</td>\n",
       "      <td>...</td>\n",
       "      <td>female</td>\n",
       "      <td>2004.0</td>\n",
       "      <td>literature</td>\n",
       "      <td>NaN</td>\n",
       "      <td>1.0</td>\n",
       "      <td>\"for her musical flow of voices and counter-vo...</td>\n",
       "      <td>NaN</td>\n",
       "      <td>NaN</td>\n",
       "      <td>NaN</td>\n",
       "      <td>literature_2004.0</td>\n",
       "    </tr>\n",
       "  </tbody>\n",
       "</table>\n",
       "<p>10 rows × 22 columns</p>\n",
       "</div>"
      ],
      "text/plain": [
       "   index   id         firstname     surname        born        died  \\\n",
       "0      0  846            Elinor      Ostrom    8/7/1933   6/12/2012   \n",
       "1      1  846            Elinor      Ostrom    8/7/1933   6/12/2012   \n",
       "2      2  783      Wangari Muta     Maathai    4/1/1940   9/25/2011   \n",
       "3      3  230  Dorothy Crowfoot     Hodgkin   5/12/1910   7/29/1994   \n",
       "4      4  918            Youyou          Tu  12/30/1930  0000-00-00   \n",
       "5      5  428           Barbara  McClintock   6/16/1902    9/2/1992   \n",
       "6      6  773            Shirin       Ebadi   6/21/1947  0000-00-00   \n",
       "7      7  597            Grazia     Deledda  09/27/1871   8/15/1936   \n",
       "8      8  615          Gabriela     Mistral  04/07/1889   1/10/1957   \n",
       "9      9  782          Elfriede     Jelinek  10/20/1946  0000-00-00   \n",
       "\n",
       "  bornCountry bornCountryCode         bornCity     diedCountry  ...  gender  \\\n",
       "0         USA              US  Los Angeles, CA             USA  ...  female   \n",
       "1         USA              US  Los Angeles, CA             USA  ...  female   \n",
       "2       Kenya              KE            Nyeri           Kenya  ...  female   \n",
       "3       Egypt              EG            Cairo  United Kingdom  ...  female   \n",
       "4       China              CN  Zhejiang Ningbo             NaN  ...  female   \n",
       "5         USA              US     Hartford, CT             USA  ...  female   \n",
       "6        Iran              IR          Hamadan             NaN  ...  female   \n",
       "7       Italy              IT  Nuoro, Sardinia           Italy  ...  female   \n",
       "8       Chile              CL           Vicu_a             USA  ...  female   \n",
       "9     Austria              AT     Môrzzuschlag             NaN  ...  female   \n",
       "\n",
       "     year    category  overallMotivation share  \\\n",
       "0  2009.0   economics                NaN   2.0   \n",
       "1  2009.0   economics                NaN   2.0   \n",
       "2  2004.0       peace                NaN   1.0   \n",
       "3  1964.0   chemistry                NaN   1.0   \n",
       "4  2015.0    medicine                NaN   2.0   \n",
       "5  1983.0    medicine                NaN   1.0   \n",
       "6  2003.0       peace                NaN   1.0   \n",
       "7  1926.0  literature                NaN   1.0   \n",
       "8  1945.0  literature                NaN   1.0   \n",
       "9  2004.0  literature                NaN   1.0   \n",
       "\n",
       "                                          motivation  \\\n",
       "0  \"for her analysis of economic governance, espe...   \n",
       "1  \"for her analysis of economic governance, espe...   \n",
       "2  \"for her contribution to sustainable developme...   \n",
       "3  \"for her determinations by X-ray techniques of...   \n",
       "4  \"for her discoveries concerning a novel therap...   \n",
       "5     \"for her discovery of mobile genetic elements\"   \n",
       "6  \"for her efforts for democracy and human right...   \n",
       "7  \"for her idealistically inspired writings whic...   \n",
       "8  \"for her lyric poetry which, inspired by power...   \n",
       "9  \"for her musical flow of voices and counter-vo...   \n",
       "\n",
       "                                            name                    city  \\\n",
       "0                             Indiana University         Bloomington, IN   \n",
       "1                       Arizona State University               Tempe, AZ   \n",
       "2                                            NaN                     NaN   \n",
       "3            University of Oxford, Royal Society                  Oxford   \n",
       "4  China Academy of Traditional Chinese Medicine                 Beijing   \n",
       "5                  Cold Spring Harbor Laboratory  Cold Spring Harbor, NY   \n",
       "6                                            NaN                     NaN   \n",
       "7                                            NaN                     NaN   \n",
       "8                                            NaN                     NaN   \n",
       "9                                            NaN                     NaN   \n",
       "\n",
       "          country           prize_id  \n",
       "0             USA   economics_2009.0  \n",
       "1             USA   economics_2009.0  \n",
       "2             NaN       peace_2004.0  \n",
       "3  United Kingdom   chemistry_1964.0  \n",
       "4           China    medicine_2015.0  \n",
       "5             USA    medicine_1983.0  \n",
       "6             NaN       peace_2003.0  \n",
       "7             NaN  literature_1926.0  \n",
       "8             NaN  literature_1945.0  \n",
       "9             NaN  literature_2004.0  \n",
       "\n",
       "[10 rows x 22 columns]"
      ]
     },
     "execution_count": 30,
     "metadata": {},
     "output_type": "execute_result"
    }
   ],
   "source": [
    "nobel.head(10)"
   ]
  },
  {
   "cell_type": "markdown",
   "id": "b773e235",
   "metadata": {},
   "source": [
    "## Bivariate analysis"
   ]
  },
  {
   "cell_type": "code",
   "execution_count": 31,
   "id": "74351d15",
   "metadata": {},
   "outputs": [
    {
     "data": {
      "image/png": "[encoded data removed]",
      "text/plain": [
       "<Figure size 864x432 with 1 Axes>"
      ]
     },
     "metadata": {
      "needs_background": "light"
     },
     "output_type": "display_data"
    }
   ],
   "source": [
    "year = nobel.groupby('category')['year'].min().reset_index()\n",
    "plt.figure(figsize=(12,6))\n",
    "sns.barplot(data=year, x='category', y='year')\n",
    "plt.ylim([1856, 2000])\n",
    "plt.xlabel('Nobel Prize Fields')\n",
    "plt.show()"
   ]
  },
  {
   "cell_type": "markdown",
   "id": "28fc3391",
   "metadata": {},
   "source": [
    "### In the comparision between the year and the category of the nobel price, the category economics was high.\n",
    "### and in this above the category was assigned wit the different colours with the chemistry with the blue,the economics with \n",
    "### orange,the literature with  green, the medicine with red,the peace with purple,and the physics with brown.\n",
    "### it is compared with the years from 1960 to 2000."
   ]
  },
  {
   "cell_type": "code",
   "execution_count": 32,
   "id": "ebf3e488",
   "metadata": {},
   "outputs": [
    {
     "data": {
      "image/png": "[encoded data removed]",
      "text/plain": [
       "<Figure size 432x288 with 1 Axes>"
      ]
     },
     "metadata": {
      "needs_background": "light"
     },
     "output_type": "display_data"
    }
   ],
   "source": [
    "plt.scatter(nobel.year,nobel.id)\n",
    "plt.xlabel('year')\n",
    "plt.ylabel('id')\n",
    "plt.show()"
   ]
  },
  {
   "cell_type": "code",
   "execution_count": 7,
   "id": "4b0895ae",
   "metadata": {},
   "outputs": [
    {
     "data": {
      "image/png": "[encoded data removed]",
      "text/plain": [
       "<Figure size 720x288 with 1 Axes>"
      ]
     },
     "metadata": {
      "needs_background": "light"
     },
     "output_type": "display_data"
    }
   ],
   "source": [
    "id = nobel.groupby('year')['id'].min().reset_index()\n",
    "plt.figure(figsize=(10,4))\n",
    "sns.barplot(data=id, x='year', y='id')\n",
    "plt.xlabel('year')\n",
    "plt.ylabel('id')\n",
    "plt.show()"
   ]
  },
  {
   "cell_type": "code",
   "execution_count": 8,
   "id": "0d45a849",
   "metadata": {
    "scrolled": true
   },
   "outputs": [],
   "source": [
    "recipients = nobel.groupby('id')['firstname'].count().reset_index()\n",
    "recipients.columns = ['id', 'recipients']\n",
    "recipients.sort_values(by='recipients', ascending=False, inplace=True)"
   ]
  },
  {
   "cell_type": "code",
   "execution_count": 9,
   "id": "b98c0f54",
   "metadata": {},
   "outputs": [
    {
     "data": {
      "text/html": [
       "<div>\n",
       "<style scoped>\n",
       "    .dataframe tbody tr th:only-of-type {\n",
       "        vertical-align: middle;\n",
       "    }\n",
       "\n",
       "    .dataframe tbody tr th {\n",
       "        vertical-align: top;\n",
       "    }\n",
       "\n",
       "    .dataframe thead th {\n",
       "        text-align: right;\n",
       "    }\n",
       "</style>\n",
       "<table border=\"1\" class=\"dataframe\">\n",
       "  <thead>\n",
       "    <tr style=\"text-align: right;\">\n",
       "      <th></th>\n",
       "      <th>id</th>\n",
       "      <th>recipients</th>\n",
       "    </tr>\n",
       "  </thead>\n",
       "  <tbody>\n",
       "    <tr>\n",
       "      <th>811</th>\n",
       "      <td>837</td>\n",
       "      <td>3</td>\n",
       "    </tr>\n",
       "    <tr>\n",
       "      <th>475</th>\n",
       "      <td>482</td>\n",
       "      <td>3</td>\n",
       "    </tr>\n",
       "    <tr>\n",
       "      <th>838</th>\n",
       "      <td>866</td>\n",
       "      <td>2</td>\n",
       "    </tr>\n",
       "    <tr>\n",
       "      <th>211</th>\n",
       "      <td>216</td>\n",
       "      <td>2</td>\n",
       "    </tr>\n",
       "    <tr>\n",
       "      <th>64</th>\n",
       "      <td>66</td>\n",
       "      <td>2</td>\n",
       "    </tr>\n",
       "    <tr>\n",
       "      <th>...</th>\n",
       "      <td>...</td>\n",
       "      <td>...</td>\n",
       "    </tr>\n",
       "    <tr>\n",
       "      <th>870</th>\n",
       "      <td>898</td>\n",
       "      <td>0</td>\n",
       "    </tr>\n",
       "    <tr>\n",
       "      <th>871</th>\n",
       "      <td>899</td>\n",
       "      <td>0</td>\n",
       "    </tr>\n",
       "    <tr>\n",
       "      <th>872</th>\n",
       "      <td>900</td>\n",
       "      <td>0</td>\n",
       "    </tr>\n",
       "    <tr>\n",
       "      <th>873</th>\n",
       "      <td>901</td>\n",
       "      <td>0</td>\n",
       "    </tr>\n",
       "    <tr>\n",
       "      <th>874</th>\n",
       "      <td>902</td>\n",
       "      <td>0</td>\n",
       "    </tr>\n",
       "  </tbody>\n",
       "</table>\n",
       "<p>907 rows × 2 columns</p>\n",
       "</div>"
      ],
      "text/plain": [
       "      id  recipients\n",
       "811  837           3\n",
       "475  482           3\n",
       "838  866           2\n",
       "211  216           2\n",
       "64    66           2\n",
       "..   ...         ...\n",
       "870  898           0\n",
       "871  899           0\n",
       "872  900           0\n",
       "873  901           0\n",
       "874  902           0\n",
       "\n",
       "[907 rows x 2 columns]"
      ]
     },
     "execution_count": 9,
     "metadata": {},
     "output_type": "execute_result"
    }
   ],
   "source": [
    "recipients"
   ]
  },
  {
   "cell_type": "code",
   "execution_count": 16,
   "id": "e922a14e",
   "metadata": {},
   "outputs": [],
   "source": [
    "nobel = nobel.merge(recipients, how='left', on='id')"
   ]
  },
  {
   "cell_type": "code",
   "execution_count": 17,
   "id": "2289fca8",
   "metadata": {},
   "outputs": [
    {
     "data": {
      "text/html": [
       "<div>\n",
       "<style scoped>\n",
       "    .dataframe tbody tr th:only-of-type {\n",
       "        vertical-align: middle;\n",
       "    }\n",
       "\n",
       "    .dataframe tbody tr th {\n",
       "        vertical-align: top;\n",
       "    }\n",
       "\n",
       "    .dataframe thead th {\n",
       "        text-align: right;\n",
       "    }\n",
       "</style>\n",
       "<table border=\"1\" class=\"dataframe\">\n",
       "  <thead>\n",
       "    <tr style=\"text-align: right;\">\n",
       "      <th></th>\n",
       "      <th>index</th>\n",
       "      <th>id</th>\n",
       "      <th>firstname</th>\n",
       "      <th>surname</th>\n",
       "      <th>born</th>\n",
       "      <th>died</th>\n",
       "      <th>bornCountry</th>\n",
       "      <th>bornCountryCode</th>\n",
       "      <th>bornCity</th>\n",
       "      <th>diedCountry</th>\n",
       "      <th>...</th>\n",
       "      <th>gender</th>\n",
       "      <th>year</th>\n",
       "      <th>category</th>\n",
       "      <th>overallMotivation</th>\n",
       "      <th>share</th>\n",
       "      <th>motivation</th>\n",
       "      <th>name</th>\n",
       "      <th>city</th>\n",
       "      <th>country</th>\n",
       "      <th>recipients</th>\n",
       "    </tr>\n",
       "  </thead>\n",
       "  <tbody>\n",
       "    <tr>\n",
       "      <th>0</th>\n",
       "      <td>0</td>\n",
       "      <td>846</td>\n",
       "      <td>Elinor</td>\n",
       "      <td>Ostrom</td>\n",
       "      <td>8/7/1933</td>\n",
       "      <td>6/12/2012</td>\n",
       "      <td>USA</td>\n",
       "      <td>US</td>\n",
       "      <td>Los Angeles, CA</td>\n",
       "      <td>USA</td>\n",
       "      <td>...</td>\n",
       "      <td>female</td>\n",
       "      <td>2009.0</td>\n",
       "      <td>economics</td>\n",
       "      <td>NaN</td>\n",
       "      <td>2.0</td>\n",
       "      <td>\"for her analysis of economic governance, espe...</td>\n",
       "      <td>Indiana University</td>\n",
       "      <td>Bloomington, IN</td>\n",
       "      <td>USA</td>\n",
       "      <td>2</td>\n",
       "    </tr>\n",
       "    <tr>\n",
       "      <th>1</th>\n",
       "      <td>1</td>\n",
       "      <td>846</td>\n",
       "      <td>Elinor</td>\n",
       "      <td>Ostrom</td>\n",
       "      <td>8/7/1933</td>\n",
       "      <td>6/12/2012</td>\n",
       "      <td>USA</td>\n",
       "      <td>US</td>\n",
       "      <td>Los Angeles, CA</td>\n",
       "      <td>USA</td>\n",
       "      <td>...</td>\n",
       "      <td>female</td>\n",
       "      <td>2009.0</td>\n",
       "      <td>economics</td>\n",
       "      <td>NaN</td>\n",
       "      <td>2.0</td>\n",
       "      <td>\"for her analysis of economic governance, espe...</td>\n",
       "      <td>Arizona State University</td>\n",
       "      <td>Tempe, AZ</td>\n",
       "      <td>USA</td>\n",
       "      <td>2</td>\n",
       "    </tr>\n",
       "    <tr>\n",
       "      <th>2</th>\n",
       "      <td>2</td>\n",
       "      <td>783</td>\n",
       "      <td>Wangari Muta</td>\n",
       "      <td>Maathai</td>\n",
       "      <td>4/1/1940</td>\n",
       "      <td>9/25/2011</td>\n",
       "      <td>Kenya</td>\n",
       "      <td>KE</td>\n",
       "      <td>Nyeri</td>\n",
       "      <td>Kenya</td>\n",
       "      <td>...</td>\n",
       "      <td>female</td>\n",
       "      <td>2004.0</td>\n",
       "      <td>peace</td>\n",
       "      <td>NaN</td>\n",
       "      <td>1.0</td>\n",
       "      <td>\"for her contribution to sustainable developme...</td>\n",
       "      <td>NaN</td>\n",
       "      <td>NaN</td>\n",
       "      <td>NaN</td>\n",
       "      <td>1</td>\n",
       "    </tr>\n",
       "    <tr>\n",
       "      <th>3</th>\n",
       "      <td>3</td>\n",
       "      <td>230</td>\n",
       "      <td>Dorothy Crowfoot</td>\n",
       "      <td>Hodgkin</td>\n",
       "      <td>5/12/1910</td>\n",
       "      <td>7/29/1994</td>\n",
       "      <td>Egypt</td>\n",
       "      <td>EG</td>\n",
       "      <td>Cairo</td>\n",
       "      <td>United Kingdom</td>\n",
       "      <td>...</td>\n",
       "      <td>female</td>\n",
       "      <td>1964.0</td>\n",
       "      <td>chemistry</td>\n",
       "      <td>NaN</td>\n",
       "      <td>1.0</td>\n",
       "      <td>\"for her determinations by X-ray techniques of...</td>\n",
       "      <td>University of Oxford, Royal Society</td>\n",
       "      <td>Oxford</td>\n",
       "      <td>United Kingdom</td>\n",
       "      <td>1</td>\n",
       "    </tr>\n",
       "    <tr>\n",
       "      <th>4</th>\n",
       "      <td>4</td>\n",
       "      <td>918</td>\n",
       "      <td>Youyou</td>\n",
       "      <td>Tu</td>\n",
       "      <td>12/30/1930</td>\n",
       "      <td>0000-00-00</td>\n",
       "      <td>China</td>\n",
       "      <td>CN</td>\n",
       "      <td>Zhejiang Ningbo</td>\n",
       "      <td>NaN</td>\n",
       "      <td>...</td>\n",
       "      <td>female</td>\n",
       "      <td>2015.0</td>\n",
       "      <td>medicine</td>\n",
       "      <td>NaN</td>\n",
       "      <td>2.0</td>\n",
       "      <td>\"for her discoveries concerning a novel therap...</td>\n",
       "      <td>China Academy of Traditional Chinese Medicine</td>\n",
       "      <td>Beijing</td>\n",
       "      <td>China</td>\n",
       "      <td>1</td>\n",
       "    </tr>\n",
       "  </tbody>\n",
       "</table>\n",
       "<p>5 rows × 22 columns</p>\n",
       "</div>"
      ],
      "text/plain": [
       "   index   id         firstname  surname        born        died bornCountry  \\\n",
       "0      0  846            Elinor   Ostrom    8/7/1933   6/12/2012         USA   \n",
       "1      1  846            Elinor   Ostrom    8/7/1933   6/12/2012         USA   \n",
       "2      2  783      Wangari Muta  Maathai    4/1/1940   9/25/2011       Kenya   \n",
       "3      3  230  Dorothy Crowfoot  Hodgkin   5/12/1910   7/29/1994       Egypt   \n",
       "4      4  918            Youyou       Tu  12/30/1930  0000-00-00       China   \n",
       "\n",
       "  bornCountryCode         bornCity     diedCountry  ...  gender    year  \\\n",
       "0              US  Los Angeles, CA             USA  ...  female  2009.0   \n",
       "1              US  Los Angeles, CA             USA  ...  female  2009.0   \n",
       "2              KE            Nyeri           Kenya  ...  female  2004.0   \n",
       "3              EG            Cairo  United Kingdom  ...  female  1964.0   \n",
       "4              CN  Zhejiang Ningbo             NaN  ...  female  2015.0   \n",
       "\n",
       "    category  overallMotivation share  \\\n",
       "0  economics                NaN   2.0   \n",
       "1  economics                NaN   2.0   \n",
       "2      peace                NaN   1.0   \n",
       "3  chemistry                NaN   1.0   \n",
       "4   medicine                NaN   2.0   \n",
       "\n",
       "                                          motivation  \\\n",
       "0  \"for her analysis of economic governance, espe...   \n",
       "1  \"for her analysis of economic governance, espe...   \n",
       "2  \"for her contribution to sustainable developme...   \n",
       "3  \"for her determinations by X-ray techniques of...   \n",
       "4  \"for her discoveries concerning a novel therap...   \n",
       "\n",
       "                                            name             city  \\\n",
       "0                             Indiana University  Bloomington, IN   \n",
       "1                       Arizona State University        Tempe, AZ   \n",
       "2                                            NaN              NaN   \n",
       "3            University of Oxford, Royal Society           Oxford   \n",
       "4  China Academy of Traditional Chinese Medicine          Beijing   \n",
       "\n",
       "          country recipients  \n",
       "0             USA          2  \n",
       "1             USA          2  \n",
       "2             NaN          1  \n",
       "3  United Kingdom          1  \n",
       "4           China          1  \n",
       "\n",
       "[5 rows x 22 columns]"
      ]
     },
     "execution_count": 17,
     "metadata": {},
     "output_type": "execute_result"
    }
   ],
   "source": [
    "nobel.head()"
   ]
  },
  {
   "cell_type": "code",
   "execution_count": 42,
   "id": "50ce0c70",
   "metadata": {},
   "outputs": [
    {
     "data": {
      "text/html": [
       "<div>\n",
       "<style scoped>\n",
       "    .dataframe tbody tr th:only-of-type {\n",
       "        vertical-align: middle;\n",
       "    }\n",
       "\n",
       "    .dataframe tbody tr th {\n",
       "        vertical-align: top;\n",
       "    }\n",
       "\n",
       "    .dataframe thead th {\n",
       "        text-align: right;\n",
       "    }\n",
       "</style>\n",
       "<table border=\"1\" class=\"dataframe\">\n",
       "  <thead>\n",
       "    <tr style=\"text-align: right;\">\n",
       "      <th></th>\n",
       "      <th>id</th>\n",
       "      <th>firstname</th>\n",
       "      <th>surname</th>\n",
       "      <th>born</th>\n",
       "      <th>died</th>\n",
       "      <th>bornCountry</th>\n",
       "      <th>bornCountryCode</th>\n",
       "      <th>bornCity</th>\n",
       "      <th>diedCountry</th>\n",
       "      <th>diedCountryCode</th>\n",
       "      <th>diedCity</th>\n",
       "      <th>gender</th>\n",
       "      <th>year</th>\n",
       "      <th>category</th>\n",
       "      <th>motivation</th>\n",
       "      <th>name</th>\n",
       "      <th>city</th>\n",
       "      <th>country</th>\n",
       "    </tr>\n",
       "  </thead>\n",
       "  <tbody>\n",
       "    <tr>\n",
       "      <th>0</th>\n",
       "      <td>846</td>\n",
       "      <td>Elinor</td>\n",
       "      <td>Ostrom</td>\n",
       "      <td>8/7/1933</td>\n",
       "      <td>6/12/2012</td>\n",
       "      <td>USA</td>\n",
       "      <td>US</td>\n",
       "      <td>Los Angeles, CA</td>\n",
       "      <td>USA</td>\n",
       "      <td>US</td>\n",
       "      <td>Bloomington, IN</td>\n",
       "      <td>female</td>\n",
       "      <td>2009.0</td>\n",
       "      <td>economics</td>\n",
       "      <td>\"for her analysis of economic governance, espe...</td>\n",
       "      <td>Indiana University</td>\n",
       "      <td>Bloomington, IN</td>\n",
       "      <td>USA</td>\n",
       "    </tr>\n",
       "    <tr>\n",
       "      <th>1</th>\n",
       "      <td>846</td>\n",
       "      <td>Elinor</td>\n",
       "      <td>Ostrom</td>\n",
       "      <td>8/7/1933</td>\n",
       "      <td>6/12/2012</td>\n",
       "      <td>USA</td>\n",
       "      <td>US</td>\n",
       "      <td>Los Angeles, CA</td>\n",
       "      <td>USA</td>\n",
       "      <td>US</td>\n",
       "      <td>Bloomington, IN</td>\n",
       "      <td>female</td>\n",
       "      <td>2009.0</td>\n",
       "      <td>economics</td>\n",
       "      <td>\"for her analysis of economic governance, espe...</td>\n",
       "      <td>Arizona State University</td>\n",
       "      <td>Tempe, AZ</td>\n",
       "      <td>USA</td>\n",
       "    </tr>\n",
       "    <tr>\n",
       "      <th>2</th>\n",
       "      <td>783</td>\n",
       "      <td>Wangari Muta</td>\n",
       "      <td>Maathai</td>\n",
       "      <td>4/1/1940</td>\n",
       "      <td>9/25/2011</td>\n",
       "      <td>Kenya</td>\n",
       "      <td>KE</td>\n",
       "      <td>Nyeri</td>\n",
       "      <td>Kenya</td>\n",
       "      <td>KE</td>\n",
       "      <td>Nairobi</td>\n",
       "      <td>female</td>\n",
       "      <td>2004.0</td>\n",
       "      <td>peace</td>\n",
       "      <td>\"for her contribution to sustainable developme...</td>\n",
       "      <td>NaN</td>\n",
       "      <td>NaN</td>\n",
       "      <td>NaN</td>\n",
       "    </tr>\n",
       "    <tr>\n",
       "      <th>3</th>\n",
       "      <td>230</td>\n",
       "      <td>Dorothy Crowfoot</td>\n",
       "      <td>Hodgkin</td>\n",
       "      <td>5/12/1910</td>\n",
       "      <td>7/29/1994</td>\n",
       "      <td>Egypt</td>\n",
       "      <td>EG</td>\n",
       "      <td>Cairo</td>\n",
       "      <td>United Kingdom</td>\n",
       "      <td>GB</td>\n",
       "      <td>Shipston-on-Stour</td>\n",
       "      <td>female</td>\n",
       "      <td>1964.0</td>\n",
       "      <td>chemistry</td>\n",
       "      <td>\"for her determinations by X-ray techniques of...</td>\n",
       "      <td>University of Oxford, Royal Society</td>\n",
       "      <td>Oxford</td>\n",
       "      <td>United Kingdom</td>\n",
       "    </tr>\n",
       "    <tr>\n",
       "      <th>4</th>\n",
       "      <td>918</td>\n",
       "      <td>Youyou</td>\n",
       "      <td>Tu</td>\n",
       "      <td>12/30/1930</td>\n",
       "      <td>0000-00-00</td>\n",
       "      <td>China</td>\n",
       "      <td>CN</td>\n",
       "      <td>Zhejiang Ningbo</td>\n",
       "      <td>NaN</td>\n",
       "      <td>NaN</td>\n",
       "      <td>NaN</td>\n",
       "      <td>female</td>\n",
       "      <td>2015.0</td>\n",
       "      <td>medicine</td>\n",
       "      <td>\"for her discoveries concerning a novel therap...</td>\n",
       "      <td>China Academy of Traditional Chinese Medicine</td>\n",
       "      <td>Beijing</td>\n",
       "      <td>China</td>\n",
       "    </tr>\n",
       "    <tr>\n",
       "      <th>5</th>\n",
       "      <td>428</td>\n",
       "      <td>Barbara</td>\n",
       "      <td>McClintock</td>\n",
       "      <td>6/16/1902</td>\n",
       "      <td>9/2/1992</td>\n",
       "      <td>USA</td>\n",
       "      <td>US</td>\n",
       "      <td>Hartford, CT</td>\n",
       "      <td>USA</td>\n",
       "      <td>US</td>\n",
       "      <td>Huntington, NY</td>\n",
       "      <td>female</td>\n",
       "      <td>1983.0</td>\n",
       "      <td>medicine</td>\n",
       "      <td>\"for her discovery of mobile genetic elements\"</td>\n",
       "      <td>Cold Spring Harbor Laboratory</td>\n",
       "      <td>Cold Spring Harbor, NY</td>\n",
       "      <td>USA</td>\n",
       "    </tr>\n",
       "    <tr>\n",
       "      <th>6</th>\n",
       "      <td>773</td>\n",
       "      <td>Shirin</td>\n",
       "      <td>Ebadi</td>\n",
       "      <td>6/21/1947</td>\n",
       "      <td>0000-00-00</td>\n",
       "      <td>Iran</td>\n",
       "      <td>IR</td>\n",
       "      <td>Hamadan</td>\n",
       "      <td>NaN</td>\n",
       "      <td>NaN</td>\n",
       "      <td>NaN</td>\n",
       "      <td>female</td>\n",
       "      <td>2003.0</td>\n",
       "      <td>peace</td>\n",
       "      <td>\"for her efforts for democracy and human right...</td>\n",
       "      <td>NaN</td>\n",
       "      <td>NaN</td>\n",
       "      <td>NaN</td>\n",
       "    </tr>\n",
       "    <tr>\n",
       "      <th>7</th>\n",
       "      <td>597</td>\n",
       "      <td>Grazia</td>\n",
       "      <td>Deledda</td>\n",
       "      <td>09/27/1871</td>\n",
       "      <td>8/15/1936</td>\n",
       "      <td>Italy</td>\n",
       "      <td>IT</td>\n",
       "      <td>Nuoro, Sardinia</td>\n",
       "      <td>Italy</td>\n",
       "      <td>IT</td>\n",
       "      <td>Rome</td>\n",
       "      <td>female</td>\n",
       "      <td>1926.0</td>\n",
       "      <td>literature</td>\n",
       "      <td>\"for her idealistically inspired writings whic...</td>\n",
       "      <td>NaN</td>\n",
       "      <td>NaN</td>\n",
       "      <td>NaN</td>\n",
       "    </tr>\n",
       "    <tr>\n",
       "      <th>8</th>\n",
       "      <td>615</td>\n",
       "      <td>Gabriela</td>\n",
       "      <td>Mistral</td>\n",
       "      <td>04/07/1889</td>\n",
       "      <td>1/10/1957</td>\n",
       "      <td>Chile</td>\n",
       "      <td>CL</td>\n",
       "      <td>Vicu_a</td>\n",
       "      <td>USA</td>\n",
       "      <td>US</td>\n",
       "      <td>Hempstead, NY</td>\n",
       "      <td>female</td>\n",
       "      <td>1945.0</td>\n",
       "      <td>literature</td>\n",
       "      <td>\"for her lyric poetry which, inspired by power...</td>\n",
       "      <td>NaN</td>\n",
       "      <td>NaN</td>\n",
       "      <td>NaN</td>\n",
       "    </tr>\n",
       "    <tr>\n",
       "      <th>9</th>\n",
       "      <td>782</td>\n",
       "      <td>Elfriede</td>\n",
       "      <td>Jelinek</td>\n",
       "      <td>10/20/1946</td>\n",
       "      <td>0000-00-00</td>\n",
       "      <td>Austria</td>\n",
       "      <td>AT</td>\n",
       "      <td>Môrzzuschlag</td>\n",
       "      <td>NaN</td>\n",
       "      <td>NaN</td>\n",
       "      <td>NaN</td>\n",
       "      <td>female</td>\n",
       "      <td>2004.0</td>\n",
       "      <td>literature</td>\n",
       "      <td>\"for her musical flow of voices and counter-vo...</td>\n",
       "      <td>NaN</td>\n",
       "      <td>NaN</td>\n",
       "      <td>NaN</td>\n",
       "    </tr>\n",
       "  </tbody>\n",
       "</table>\n",
       "</div>"
      ],
      "text/plain": [
       "    id         firstname     surname        born        died bornCountry  \\\n",
       "0  846            Elinor      Ostrom    8/7/1933   6/12/2012         USA   \n",
       "1  846            Elinor      Ostrom    8/7/1933   6/12/2012         USA   \n",
       "2  783      Wangari Muta     Maathai    4/1/1940   9/25/2011       Kenya   \n",
       "3  230  Dorothy Crowfoot     Hodgkin   5/12/1910   7/29/1994       Egypt   \n",
       "4  918            Youyou          Tu  12/30/1930  0000-00-00       China   \n",
       "5  428           Barbara  McClintock   6/16/1902    9/2/1992         USA   \n",
       "6  773            Shirin       Ebadi   6/21/1947  0000-00-00        Iran   \n",
       "7  597            Grazia     Deledda  09/27/1871   8/15/1936       Italy   \n",
       "8  615          Gabriela     Mistral  04/07/1889   1/10/1957       Chile   \n",
       "9  782          Elfriede     Jelinek  10/20/1946  0000-00-00     Austria   \n",
       "\n",
       "  bornCountryCode         bornCity     diedCountry diedCountryCode  \\\n",
       "0              US  Los Angeles, CA             USA              US   \n",
       "1              US  Los Angeles, CA             USA              US   \n",
       "2              KE            Nyeri           Kenya              KE   \n",
       "3              EG            Cairo  United Kingdom              GB   \n",
       "4              CN  Zhejiang Ningbo             NaN             NaN   \n",
       "5              US     Hartford, CT             USA              US   \n",
       "6              IR          Hamadan             NaN             NaN   \n",
       "7              IT  Nuoro, Sardinia           Italy              IT   \n",
       "8              CL           Vicu_a             USA              US   \n",
       "9              AT     Môrzzuschlag             NaN             NaN   \n",
       "\n",
       "            diedCity  gender    year    category  \\\n",
       "0    Bloomington, IN  female  2009.0   economics   \n",
       "1    Bloomington, IN  female  2009.0   economics   \n",
       "2            Nairobi  female  2004.0       peace   \n",
       "3  Shipston-on-Stour  female  1964.0   chemistry   \n",
       "4                NaN  female  2015.0    medicine   \n",
       "5     Huntington, NY  female  1983.0    medicine   \n",
       "6                NaN  female  2003.0       peace   \n",
       "7               Rome  female  1926.0  literature   \n",
       "8      Hempstead, NY  female  1945.0  literature   \n",
       "9                NaN  female  2004.0  literature   \n",
       "\n",
       "                                          motivation  \\\n",
       "0  \"for her analysis of economic governance, espe...   \n",
       "1  \"for her analysis of economic governance, espe...   \n",
       "2  \"for her contribution to sustainable developme...   \n",
       "3  \"for her determinations by X-ray techniques of...   \n",
       "4  \"for her discoveries concerning a novel therap...   \n",
       "5     \"for her discovery of mobile genetic elements\"   \n",
       "6  \"for her efforts for democracy and human right...   \n",
       "7  \"for her idealistically inspired writings whic...   \n",
       "8  \"for her lyric poetry which, inspired by power...   \n",
       "9  \"for her musical flow of voices and counter-vo...   \n",
       "\n",
       "                                            name                    city  \\\n",
       "0                             Indiana University         Bloomington, IN   \n",
       "1                       Arizona State University               Tempe, AZ   \n",
       "2                                            NaN                     NaN   \n",
       "3            University of Oxford, Royal Society                  Oxford   \n",
       "4  China Academy of Traditional Chinese Medicine                 Beijing   \n",
       "5                  Cold Spring Harbor Laboratory  Cold Spring Harbor, NY   \n",
       "6                                            NaN                     NaN   \n",
       "7                                            NaN                     NaN   \n",
       "8                                            NaN                     NaN   \n",
       "9                                            NaN                     NaN   \n",
       "\n",
       "          country  \n",
       "0             USA  \n",
       "1             USA  \n",
       "2             NaN  \n",
       "3  United Kingdom  \n",
       "4           China  \n",
       "5             USA  \n",
       "6             NaN  \n",
       "7             NaN  \n",
       "8             NaN  \n",
       "9             NaN  "
      ]
     },
     "execution_count": 42,
     "metadata": {},
     "output_type": "execute_result"
    }
   ],
   "source": [
    "winners=pd.read_csv(\"C:\\\\Users\\\\karth\\\\Desktop\\\\nobel_prize_by_winner.csv\")\n",
    "winners.drop(['index', 'overallMotivation',\"share\"], axis=1, inplace=True)\n",
    "winners.head(10)"
   ]
  },
  {
   "cell_type": "code",
   "execution_count": 43,
   "id": "d9836f43",
   "metadata": {},
   "outputs": [
    {
     "data": {
      "text/html": [
       "<div>\n",
       "<style scoped>\n",
       "    .dataframe tbody tr th:only-of-type {\n",
       "        vertical-align: middle;\n",
       "    }\n",
       "\n",
       "    .dataframe tbody tr th {\n",
       "        vertical-align: top;\n",
       "    }\n",
       "\n",
       "    .dataframe thead th {\n",
       "        text-align: right;\n",
       "    }\n",
       "</style>\n",
       "<table border=\"1\" class=\"dataframe\">\n",
       "  <thead>\n",
       "    <tr style=\"text-align: right;\">\n",
       "      <th></th>\n",
       "      <th>id</th>\n",
       "      <th>firstname</th>\n",
       "      <th>surname</th>\n",
       "      <th>born</th>\n",
       "      <th>died</th>\n",
       "      <th>bornCountry</th>\n",
       "      <th>bornCountryCode</th>\n",
       "      <th>bornCity</th>\n",
       "      <th>diedCountry</th>\n",
       "      <th>diedCountryCode</th>\n",
       "      <th>diedCity</th>\n",
       "      <th>gender</th>\n",
       "      <th>year</th>\n",
       "      <th>category</th>\n",
       "      <th>motivation</th>\n",
       "      <th>name</th>\n",
       "      <th>city</th>\n",
       "      <th>country</th>\n",
       "    </tr>\n",
       "  </thead>\n",
       "  <tbody>\n",
       "    <tr>\n",
       "      <th>967</th>\n",
       "      <td>525</td>\n",
       "      <td>United Nations Children's Fund (UNICEF)</td>\n",
       "      <td>NaN</td>\n",
       "      <td>NaN</td>\n",
       "      <td>NaN</td>\n",
       "      <td>NaN</td>\n",
       "      <td>NaN</td>\n",
       "      <td>NaN</td>\n",
       "      <td>NaN</td>\n",
       "      <td>NaN</td>\n",
       "      <td>NaN</td>\n",
       "      <td>org</td>\n",
       "      <td>1965.0</td>\n",
       "      <td>peace</td>\n",
       "      <td>NaN</td>\n",
       "      <td>NaN</td>\n",
       "      <td>NaN</td>\n",
       "      <td>NaN</td>\n",
       "    </tr>\n",
       "    <tr>\n",
       "      <th>968</th>\n",
       "      <td>527</td>\n",
       "      <td>International Labour Organization (I.L.O.)</td>\n",
       "      <td>NaN</td>\n",
       "      <td>NaN</td>\n",
       "      <td>NaN</td>\n",
       "      <td>NaN</td>\n",
       "      <td>NaN</td>\n",
       "      <td>NaN</td>\n",
       "      <td>NaN</td>\n",
       "      <td>NaN</td>\n",
       "      <td>NaN</td>\n",
       "      <td>org</td>\n",
       "      <td>1969.0</td>\n",
       "      <td>peace</td>\n",
       "      <td>NaN</td>\n",
       "      <td>NaN</td>\n",
       "      <td>NaN</td>\n",
       "      <td>NaN</td>\n",
       "    </tr>\n",
       "    <tr>\n",
       "      <th>969</th>\n",
       "      <td>537</td>\n",
       "      <td>Amnesty International</td>\n",
       "      <td>NaN</td>\n",
       "      <td>NaN</td>\n",
       "      <td>NaN</td>\n",
       "      <td>NaN</td>\n",
       "      <td>NaN</td>\n",
       "      <td>NaN</td>\n",
       "      <td>NaN</td>\n",
       "      <td>NaN</td>\n",
       "      <td>NaN</td>\n",
       "      <td>org</td>\n",
       "      <td>1977.0</td>\n",
       "      <td>peace</td>\n",
       "      <td>NaN</td>\n",
       "      <td>NaN</td>\n",
       "      <td>NaN</td>\n",
       "      <td>NaN</td>\n",
       "    </tr>\n",
       "    <tr>\n",
       "      <th>970</th>\n",
       "      <td>547</td>\n",
       "      <td>International Physicians for the Prevention of...</td>\n",
       "      <td>NaN</td>\n",
       "      <td>NaN</td>\n",
       "      <td>NaN</td>\n",
       "      <td>NaN</td>\n",
       "      <td>NaN</td>\n",
       "      <td>NaN</td>\n",
       "      <td>NaN</td>\n",
       "      <td>NaN</td>\n",
       "      <td>NaN</td>\n",
       "      <td>org</td>\n",
       "      <td>1985.0</td>\n",
       "      <td>peace</td>\n",
       "      <td>NaN</td>\n",
       "      <td>NaN</td>\n",
       "      <td>NaN</td>\n",
       "      <td>NaN</td>\n",
       "    </tr>\n",
       "    <tr>\n",
       "      <th>971</th>\n",
       "      <td>550</td>\n",
       "      <td>United Nations Peacekeeping Forces</td>\n",
       "      <td>NaN</td>\n",
       "      <td>NaN</td>\n",
       "      <td>NaN</td>\n",
       "      <td>NaN</td>\n",
       "      <td>NaN</td>\n",
       "      <td>NaN</td>\n",
       "      <td>NaN</td>\n",
       "      <td>NaN</td>\n",
       "      <td>NaN</td>\n",
       "      <td>org</td>\n",
       "      <td>1988.0</td>\n",
       "      <td>peace</td>\n",
       "      <td>NaN</td>\n",
       "      <td>NaN</td>\n",
       "      <td>NaN</td>\n",
       "      <td>NaN</td>\n",
       "    </tr>\n",
       "  </tbody>\n",
       "</table>\n",
       "</div>"
      ],
      "text/plain": [
       "      id                                          firstname surname born died  \\\n",
       "967  525            United Nations Children's Fund (UNICEF)     NaN  NaN  NaN   \n",
       "968  527         International Labour Organization (I.L.O.)     NaN  NaN  NaN   \n",
       "969  537                              Amnesty International     NaN  NaN  NaN   \n",
       "970  547  International Physicians for the Prevention of...     NaN  NaN  NaN   \n",
       "971  550                 United Nations Peacekeeping Forces     NaN  NaN  NaN   \n",
       "\n",
       "    bornCountry bornCountryCode bornCity diedCountry diedCountryCode diedCity  \\\n",
       "967         NaN             NaN      NaN         NaN             NaN      NaN   \n",
       "968         NaN             NaN      NaN         NaN             NaN      NaN   \n",
       "969         NaN             NaN      NaN         NaN             NaN      NaN   \n",
       "970         NaN             NaN      NaN         NaN             NaN      NaN   \n",
       "971         NaN             NaN      NaN         NaN             NaN      NaN   \n",
       "\n",
       "    gender    year category motivation name city country  \n",
       "967    org  1965.0    peace        NaN  NaN  NaN     NaN  \n",
       "968    org  1969.0    peace        NaN  NaN  NaN     NaN  \n",
       "969    org  1977.0    peace        NaN  NaN  NaN     NaN  \n",
       "970    org  1985.0    peace        NaN  NaN  NaN     NaN  \n",
       "971    org  1988.0    peace        NaN  NaN  NaN     NaN  "
      ]
     },
     "execution_count": 43,
     "metadata": {},
     "output_type": "execute_result"
    }
   ],
   "source": [
    "winners.tail()"
   ]
  },
  {
   "cell_type": "code",
   "execution_count": 44,
   "id": "6088cf7f",
   "metadata": {},
   "outputs": [
    {
     "data": {
      "image/png": "[encoded data removed]",
      "text/plain": [
       "<Figure size 432x288 with 1 Axes>"
      ]
     },
     "metadata": {
      "needs_background": "light"
     },
     "output_type": "display_data"
    }
   ],
   "source": [
    "sns.boxplot(data=nobel, x='share',y='id')\n",
    "plt.show()"
   ]
  },
  {
   "cell_type": "code",
   "execution_count": 45,
   "id": "bd857c4d",
   "metadata": {
    "scrolled": true
   },
   "outputs": [
    {
     "data": {
      "image/png": "[encoded data removed]",
      "text/plain": [
       "<Figure size 432x288 with 1 Axes>"
      ]
     },
     "metadata": {
      "needs_background": "light"
     },
     "output_type": "display_data"
    }
   ],
   "source": [
    "nobel.groupby(['share'])['year'].mean().plot.bar()\n",
    "plt.show()"
   ]
  },
  {
   "cell_type": "markdown",
   "id": "1a96af31",
   "metadata": {},
   "source": [
    "### In the comparision between the year and the share of the noble price.\n",
    "### the highest share was in the year 2000 of 4.0.\n",
    "### In this the range of the years was from 0 to 2000."
   ]
  },
  {
   "cell_type": "code",
   "execution_count": 46,
   "id": "7b6f43d8",
   "metadata": {},
   "outputs": [
    {
     "data": {
      "image/png": "[encoded data removed]",
      "text/plain": [
       "<Figure size 432x288 with 1 Axes>"
      ]
     },
     "metadata": {
      "needs_background": "light"
     },
     "output_type": "display_data"
    }
   ],
   "source": [
    "sns.boxplot(data=nobel,x='share',y='year')\n",
    "plt.show()"
   ]
  },
  {
   "cell_type": "code",
   "execution_count": 47,
   "id": "6b827260",
   "metadata": {
    "scrolled": true
   },
   "outputs": [
    {
     "data": {
      "image/png": "[encoded data removed]",
      "text/plain": [
       "<Figure size 432x288 with 1 Axes>"
      ]
     },
     "metadata": {
      "needs_background": "light"
     },
     "output_type": "display_data"
    }
   ],
   "source": [
    "nobel.groupby(['share'])['id'].mean().plot.bar()\n",
    "plt.show()"
   ]
  },
  {
   "cell_type": "markdown",
   "id": "89e0fd1b",
   "metadata": {},
   "source": [
    "### In the comparision between the share and the id of that were awarded with the nobel price.\n",
    "### the highest share was 3.0 in above 500.\n",
    "### Here the id was given in the range from 0 to 500."
   ]
  },
  {
   "cell_type": "code",
   "execution_count": 48,
   "id": "520837ad",
   "metadata": {},
   "outputs": [
    {
     "data": {
      "image/png": "[encoded data removed]",
      "text/plain": [
       "<Figure size 432x288 with 1 Axes>"
      ]
     },
     "metadata": {
      "needs_background": "light"
     },
     "output_type": "display_data"
    }
   ],
   "source": [
    "sns.boxplot(data=nobel,x='share',y='id')\n",
    "plt.show()"
   ]
  },
  {
   "cell_type": "code",
   "execution_count": 49,
   "id": "3cebea06",
   "metadata": {},
   "outputs": [
    {
     "data": {
      "text/plain": [
       "6"
      ]
     },
     "execution_count": 49,
     "metadata": {},
     "output_type": "execute_result"
    }
   ],
   "source": [
    "nobel.year.isnull().sum()"
   ]
  },
  {
   "cell_type": "markdown",
   "id": "c312ac02",
   "metadata": {},
   "source": [
    "###  Multivariate analysis"
   ]
  },
  {
   "cell_type": "code",
   "execution_count": 50,
   "id": "6254a50f",
   "metadata": {
    "scrolled": true
   },
   "outputs": [
    {
     "data": {
      "image/png": "[encoded data removed]",
      "text/plain": [
       "<Figure size 2160x720 with 1 Axes>"
      ]
     },
     "metadata": {
      "needs_background": "light"
     },
     "output_type": "display_data"
    }
   ],
   "source": [
    "plt.figure(figsize= (30,10))\n",
    "sns.countplot(x = \"category\", data = nobel , hue =\"gender\", palette = \"Paired\",  )\n",
    "plt.suptitle(\"Gender distribution of prize winners by category\", fontsize = 20)\n",
    "\n",
    "sns.despine(top = True, right = True, left = False, bottom = False)\n",
    "\n",
    "plt.show()"
   ]
  },
  {
   "cell_type": "markdown",
   "id": "b687dcd3",
   "metadata": {},
   "source": [
    "#### In the comparision between the gender and the categorythey were awarded with the noble price in gender wise.\n",
    "#### Mostly the male gender has awarded the noble price in majority of categorieslike economics,peace,chemistry,\n",
    "#### medicine,literature,physics.\n",
    "#### when we observe the categorical plots,we can witness that the count of male in the physics category was high.\n"
   ]
  },
  {
   "cell_type": "code",
   "execution_count": 51,
   "id": "e3b03b24",
   "metadata": {},
   "outputs": [
    {
     "data": {
      "text/plain": [
       "<AxesSubplot:xlabel='category'>"
      ]
     },
     "execution_count": 51,
     "metadata": {},
     "output_type": "execute_result"
    },
    {
     "data": {
      "image/png": "[encoded data removed]",
      "text/plain": [
       "<Figure size 864x432 with 2 Axes>"
      ]
     },
     "metadata": {
      "needs_background": "light"
     },
     "output_type": "display_data"
    }
   ],
   "source": [
    "plt.figure(figsize=(12,6))\n",
    "plt.tight_layout()\n",
    "gb_cag=nobel.groupby('category')['id'].apply(lambda x:len(x.drop_duplicates()))\n",
    "plt.subplot(121)\n",
    "plt.pie(x=gb_cag,autopct=\"%.1f%%\",explode=(0,0.1,0.1,0.1,0,0.1),shadow=True)\n",
    "plt.legend(['chemistry','economics','literature','medicine','peace'])\n",
    "plt.subplot(122)\n",
    "gb_cag.sort_values().plot(kind='bar')"
   ]
  },
  {
   "cell_type": "markdown",
   "id": "8b132593",
   "metadata": {},
   "source": [
    "#### This is the pie graph and bar graph in the comparision between category and counts.\n",
    "#### In the pie graph there are different colours assign to various categories.\n",
    "#### The colour blue is assigned to chemistry, colour orange is for economics,colour green is for literature,colour red is for medicine,colour purple is for peace"
   ]
  },
  {
   "cell_type": "code",
   "execution_count": 53,
   "id": "6ee384f8",
   "metadata": {},
   "outputs": [],
   "source": [
    "nobel = nobel[nobel.firstname.notnull()].copy()"
   ]
  },
  {
   "cell_type": "code",
   "execution_count": 54,
   "id": "a702aeb2",
   "metadata": {},
   "outputs": [],
   "source": [
    "organisations = nobel[nobel.gender == 'org'].copy()\n",
    "nobel = nobel[nobel.gender != 'org'].copy()"
   ]
  },
  {
   "cell_type": "code",
   "execution_count": 55,
   "id": "fc0a6186",
   "metadata": {},
   "outputs": [],
   "source": [
    "nobel.born.iloc[173] = '02/09/1945'\n",
    "nobel.born.iloc[291] = '08/10/1951'\n",
    "nobel.born.iloc[362] = '01/01/1952'\n",
    "nobel.born.iloc[377] = '05/24/1942'\n",
    "nobel.born.iloc[378] = '05/18/1951'\n",
    "nobel.born.iloc[379] = '10/21/1944'\n",
    "nobel.born.iloc[444] = '09/22/1959'\n",
    "nobel.born.iloc[800] = '09/14/1951'\n",
    "nobel.born.iloc[801] = '06/22/1943'\n",
    "nobel.born.iloc[802] = '09/21/1934'\n",
    "nobel.died.iloc[802] = '04/06/2019'\n",
    "nobel.born.iloc[506] = '11/07/1943'\n",
    "nobel.born.iloc[-1] = '01/01/1898'\n",
    "\n",
    "nobel.drop_duplicates(subset='id',inplace=True)"
   ]
  },
  {
   "cell_type": "code",
   "execution_count": 56,
   "id": "bf4509c9",
   "metadata": {},
   "outputs": [
    {
     "data": {
      "text/html": [
       "<div>\n",
       "<style scoped>\n",
       "    .dataframe tbody tr th:only-of-type {\n",
       "        vertical-align: middle;\n",
       "    }\n",
       "\n",
       "    .dataframe tbody tr th {\n",
       "        vertical-align: top;\n",
       "    }\n",
       "\n",
       "    .dataframe thead th {\n",
       "        text-align: right;\n",
       "    }\n",
       "</style>\n",
       "<table border=\"1\" class=\"dataframe\">\n",
       "  <thead>\n",
       "    <tr style=\"text-align: right;\">\n",
       "      <th></th>\n",
       "      <th>index</th>\n",
       "      <th>id</th>\n",
       "      <th>firstname</th>\n",
       "      <th>surname</th>\n",
       "      <th>born</th>\n",
       "      <th>died</th>\n",
       "      <th>bornCountry</th>\n",
       "      <th>bornCountryCode</th>\n",
       "      <th>bornCity</th>\n",
       "      <th>diedCountry</th>\n",
       "      <th>...</th>\n",
       "      <th>year</th>\n",
       "      <th>category</th>\n",
       "      <th>overallMotivation</th>\n",
       "      <th>share</th>\n",
       "      <th>motivation</th>\n",
       "      <th>name</th>\n",
       "      <th>city</th>\n",
       "      <th>country</th>\n",
       "      <th>prize_id</th>\n",
       "      <th>recipients</th>\n",
       "    </tr>\n",
       "  </thead>\n",
       "  <tbody>\n",
       "    <tr>\n",
       "      <th>0</th>\n",
       "      <td>0</td>\n",
       "      <td>846</td>\n",
       "      <td>Elinor</td>\n",
       "      <td>Ostrom</td>\n",
       "      <td>8/7/1933</td>\n",
       "      <td>6/12/2012</td>\n",
       "      <td>USA</td>\n",
       "      <td>US</td>\n",
       "      <td>Los Angeles, CA</td>\n",
       "      <td>USA</td>\n",
       "      <td>...</td>\n",
       "      <td>2009.0</td>\n",
       "      <td>economics</td>\n",
       "      <td>NaN</td>\n",
       "      <td>2.0</td>\n",
       "      <td>\"for her analysis of economic governance, espe...</td>\n",
       "      <td>Indiana University</td>\n",
       "      <td>Bloomington, IN</td>\n",
       "      <td>USA</td>\n",
       "      <td>economics_2009.0</td>\n",
       "      <td>2</td>\n",
       "    </tr>\n",
       "    <tr>\n",
       "      <th>2</th>\n",
       "      <td>2</td>\n",
       "      <td>783</td>\n",
       "      <td>Wangari Muta</td>\n",
       "      <td>Maathai</td>\n",
       "      <td>4/1/1940</td>\n",
       "      <td>9/25/2011</td>\n",
       "      <td>Kenya</td>\n",
       "      <td>KE</td>\n",
       "      <td>Nyeri</td>\n",
       "      <td>Kenya</td>\n",
       "      <td>...</td>\n",
       "      <td>2004.0</td>\n",
       "      <td>peace</td>\n",
       "      <td>NaN</td>\n",
       "      <td>1.0</td>\n",
       "      <td>\"for her contribution to sustainable developme...</td>\n",
       "      <td>NaN</td>\n",
       "      <td>NaN</td>\n",
       "      <td>NaN</td>\n",
       "      <td>peace_2004.0</td>\n",
       "      <td>1</td>\n",
       "    </tr>\n",
       "    <tr>\n",
       "      <th>3</th>\n",
       "      <td>3</td>\n",
       "      <td>230</td>\n",
       "      <td>Dorothy Crowfoot</td>\n",
       "      <td>Hodgkin</td>\n",
       "      <td>5/12/1910</td>\n",
       "      <td>7/29/1994</td>\n",
       "      <td>Egypt</td>\n",
       "      <td>EG</td>\n",
       "      <td>Cairo</td>\n",
       "      <td>United Kingdom</td>\n",
       "      <td>...</td>\n",
       "      <td>1964.0</td>\n",
       "      <td>chemistry</td>\n",
       "      <td>NaN</td>\n",
       "      <td>1.0</td>\n",
       "      <td>\"for her determinations by X-ray techniques of...</td>\n",
       "      <td>University of Oxford, Royal Society</td>\n",
       "      <td>Oxford</td>\n",
       "      <td>United Kingdom</td>\n",
       "      <td>chemistry_1964.0</td>\n",
       "      <td>1</td>\n",
       "    </tr>\n",
       "    <tr>\n",
       "      <th>4</th>\n",
       "      <td>4</td>\n",
       "      <td>918</td>\n",
       "      <td>Youyou</td>\n",
       "      <td>Tu</td>\n",
       "      <td>12/30/1930</td>\n",
       "      <td>0000-00-00</td>\n",
       "      <td>China</td>\n",
       "      <td>CN</td>\n",
       "      <td>Zhejiang Ningbo</td>\n",
       "      <td>NaN</td>\n",
       "      <td>...</td>\n",
       "      <td>2015.0</td>\n",
       "      <td>medicine</td>\n",
       "      <td>NaN</td>\n",
       "      <td>2.0</td>\n",
       "      <td>\"for her discoveries concerning a novel therap...</td>\n",
       "      <td>China Academy of Traditional Chinese Medicine</td>\n",
       "      <td>Beijing</td>\n",
       "      <td>China</td>\n",
       "      <td>medicine_2015.0</td>\n",
       "      <td>1</td>\n",
       "    </tr>\n",
       "    <tr>\n",
       "      <th>5</th>\n",
       "      <td>5</td>\n",
       "      <td>428</td>\n",
       "      <td>Barbara</td>\n",
       "      <td>McClintock</td>\n",
       "      <td>6/16/1902</td>\n",
       "      <td>9/2/1992</td>\n",
       "      <td>USA</td>\n",
       "      <td>US</td>\n",
       "      <td>Hartford, CT</td>\n",
       "      <td>USA</td>\n",
       "      <td>...</td>\n",
       "      <td>1983.0</td>\n",
       "      <td>medicine</td>\n",
       "      <td>NaN</td>\n",
       "      <td>1.0</td>\n",
       "      <td>\"for her discovery of mobile genetic elements\"</td>\n",
       "      <td>Cold Spring Harbor Laboratory</td>\n",
       "      <td>Cold Spring Harbor, NY</td>\n",
       "      <td>USA</td>\n",
       "      <td>medicine_1983.0</td>\n",
       "      <td>1</td>\n",
       "    </tr>\n",
       "  </tbody>\n",
       "</table>\n",
       "<p>5 rows × 23 columns</p>\n",
       "</div>"
      ],
      "text/plain": [
       "   index   id         firstname     surname        born        died  \\\n",
       "0      0  846            Elinor      Ostrom    8/7/1933   6/12/2012   \n",
       "2      2  783      Wangari Muta     Maathai    4/1/1940   9/25/2011   \n",
       "3      3  230  Dorothy Crowfoot     Hodgkin   5/12/1910   7/29/1994   \n",
       "4      4  918            Youyou          Tu  12/30/1930  0000-00-00   \n",
       "5      5  428           Barbara  McClintock   6/16/1902    9/2/1992   \n",
       "\n",
       "  bornCountry bornCountryCode         bornCity     diedCountry  ...    year  \\\n",
       "0         USA              US  Los Angeles, CA             USA  ...  2009.0   \n",
       "2       Kenya              KE            Nyeri           Kenya  ...  2004.0   \n",
       "3       Egypt              EG            Cairo  United Kingdom  ...  1964.0   \n",
       "4       China              CN  Zhejiang Ningbo             NaN  ...  2015.0   \n",
       "5         USA              US     Hartford, CT             USA  ...  1983.0   \n",
       "\n",
       "    category overallMotivation  share  \\\n",
       "0  economics               NaN    2.0   \n",
       "2      peace               NaN    1.0   \n",
       "3  chemistry               NaN    1.0   \n",
       "4   medicine               NaN    2.0   \n",
       "5   medicine               NaN    1.0   \n",
       "\n",
       "                                          motivation  \\\n",
       "0  \"for her analysis of economic governance, espe...   \n",
       "2  \"for her contribution to sustainable developme...   \n",
       "3  \"for her determinations by X-ray techniques of...   \n",
       "4  \"for her discoveries concerning a novel therap...   \n",
       "5     \"for her discovery of mobile genetic elements\"   \n",
       "\n",
       "                                            name                    city  \\\n",
       "0                             Indiana University         Bloomington, IN   \n",
       "2                                            NaN                     NaN   \n",
       "3            University of Oxford, Royal Society                  Oxford   \n",
       "4  China Academy of Traditional Chinese Medicine                 Beijing   \n",
       "5                  Cold Spring Harbor Laboratory  Cold Spring Harbor, NY   \n",
       "\n",
       "          country          prize_id recipients  \n",
       "0             USA  economics_2009.0          2  \n",
       "2             NaN      peace_2004.0          1  \n",
       "3  United Kingdom  chemistry_1964.0          1  \n",
       "4           China   medicine_2015.0          1  \n",
       "5             USA   medicine_1983.0          1  \n",
       "\n",
       "[5 rows x 23 columns]"
      ]
     },
     "execution_count": 56,
     "metadata": {},
     "output_type": "execute_result"
    }
   ],
   "source": [
    "nobel.head()"
   ]
  },
  {
   "cell_type": "code",
   "execution_count": 57,
   "id": "d3ef7887",
   "metadata": {},
   "outputs": [],
   "source": [
    "nobel['born'] = pd.to_datetime(nobel['born'])\n",
    "nobel['birth_year'] = nobel.born.dt.year\n",
    "nobel['birth_month'] = nobel.born.dt.month"
   ]
  },
  {
   "cell_type": "code",
   "execution_count": 59,
   "id": "30e37de7",
   "metadata": {},
   "outputs": [
    {
     "data": {
      "image/png": "[encoded data removed]",
      "text/plain": [
       "<Figure size 864x576 with 1 Axes>"
      ]
     },
     "metadata": {
      "needs_background": "light"
     },
     "output_type": "display_data"
    }
   ],
   "source": [
    "nobel['awarded_at'] = nobel['year'] - nobel['birth_year']\n",
    "plt.figure(figsize=(12,8))\n",
    "\n",
    "sns.histplot(data=nobel, x='awarded_at', hue='category', multiple='stack', bins=17)\n",
    "\n",
    "plt.show()"
   ]
  },
  {
   "cell_type": "markdown",
   "id": "6a17b4fc",
   "metadata": {},
   "source": [
    "#### In the histogram the x-axis represents the age of people when they awarded with the nobel and y-axis represents the number of people awarded at particular age  with respective to the field in which they were awarded the nobel prize .\n",
    "#### Maximum people were awarded in the field of economics at the age range of 60 -70 years and wb=hen look in to the histogram it clearly tells us that most number of people were awarded the nobel prize in the age between 60-70 and that toin every field and when we consider the second highest number of awards that were received in every field is the age range between 50-60 . And we infer from these histogram clearly that in the early age it is not easy to acheive a nobel prize in any field that take a long time to acquire knowledge  in the subject and graph tells us that."
   ]
  },
  {
   "cell_type": "code",
   "execution_count": 62,
   "id": "03dc6707",
   "metadata": {
    "scrolled": true
   },
   "outputs": [
    {
     "data": {
      "image/png": "[encoded data removed]",
      "text/plain": [
       "<Figure size 432x288 with 1 Axes>"
      ]
     },
     "metadata": {
      "needs_background": "light"
     },
     "output_type": "display_data"
    }
   ],
   "source": [
    "sns.lineplot(\n",
    "    x=\"year\", \n",
    "    y=\"gender\",\n",
    "    data=nobel,\n",
    "    palette='bright',\n",
    "    hue='category');"
   ]
  },
  {
   "cell_type": "markdown",
   "id": "eea22df7",
   "metadata": {},
   "source": [
    " #### In the comparision between the year and the gender they were awarded with the nobel price.\n",
    "#### the different colours is assign to different categories like peace,economics,chemistry,medicine,literature etc..\n",
    "#### In comparision with different year the colurs of the graph was increased according to the year wise."
   ]
  },
  {
   "cell_type": "markdown",
   "id": "53c1c134",
   "metadata": {},
   "source": [
    "#### heat map"
   ]
  },
  {
   "cell_type": "code",
   "execution_count": 65,
   "id": "a5a23ba3",
   "metadata": {},
   "outputs": [
    {
     "data": {
      "image/png": "[encoded data removed]",
      "text/plain": [
       "<Figure size 576x288 with 2 Axes>"
      ]
     },
     "metadata": {},
     "output_type": "display_data"
    }
   ],
   "source": [
    "sns.set(font_scale=1.15)\n",
    "plt.figure(figsize=(8,4))\n",
    "sns.heatmap(\n",
    "    nobel.corr(),        \n",
    "    cmap='RdYlGn', \n",
    "    annot=True, \n",
    "    vmin=-1, vmax=1);"
   ]
  },
  {
   "cell_type": "markdown",
   "id": "b7c920e2",
   "metadata": {},
   "source": [
    "#### Heat map indicates the correlation values between the variables that we compare in the analysis and in the heatmap \n",
    "#### the -1 indicates that the two variable are perfectly negative linear correlated between the variables .0 indicates that\n",
    "#### no linear correlation between the variables and 1 indiacets a perfectly positive linear correlation\n",
    "#### between the variables and the in the above heat map , we infer that the correlation between the year and birth_year are\n",
    "#### highly positive correlated(0.93) and tend to move in the same direction and that conclude that the birth year of the nobel\n",
    "#### prize winners and the year they were awarded the nobel prize in the coming future too this may continue. \n",
    "#### And the birth_month and the id have high negative correlated value of (-0.02) that conclude that the \n",
    "#### birth_month doesn't have effect on the characteristics of id (or) vice-versa."
   ]
  },
  {
   "cell_type": "code",
   "execution_count": 70,
   "id": "a42ea372",
   "metadata": {},
   "outputs": [
    {
     "data": {
      "image/png": "[encoded data removed]",
      "text/plain": [
       "<Figure size 864x720 with 6 Axes>"
      ]
     },
     "metadata": {},
     "output_type": "display_data"
    }
   ],
   "source": [
    "sns.catplot(\n",
    "    x='gender', \n",
    "    y='year', \n",
    "    data=nobel, \n",
    "    ci=None,  \n",
    "    height=5, #default \n",
    "    aspect=.8,\n",
    "    kind='point',\n",
    "    hue='category', \n",
    "    col='category', \n",
    "    col_wrap=3);\n",
    "\n"
   ]
  },
  {
   "cell_type": "markdown",
   "id": "4d5996d5",
   "metadata": {},
   "source": [
    "#### In the comparison between the gender and the year they were the awarded with nobel prize in respective categories. \n",
    "#### Mostly the male gender has awarded in the early 90's and 20's in the majority of the categories like peace , economics , medicine and literature and in the field of physics and chemistry the female are a step ahead of the all the other male scientists .\n",
    "#### When we observe the category of economics it took a long period of time to research when compared to other fields like peace, physics and chemistry and in the above categorical plots, we can witness that in the category of economics the nobel prize was awarded in between the year 1900-2000 , but when we look into other categories that was earlier than the econimics.\n",
    "#### And in the field physics no other scientists after the year 1970 has recieved the nobel prize. \n"
   ]
  },
  {
   "cell_type": "code",
   "execution_count": 78,
   "id": "3074e7f5",
   "metadata": {},
   "outputs": [
    {
     "data": {
      "image/png": "[encoded data removed]",
      "text/plain": [
       "<Figure size 432x288 with 1 Axes>"
      ]
     },
     "metadata": {},
     "output_type": "display_data"
    }
   ],
   "source": [
    "sns.boxplot(\n",
    "    x='category', \n",
    "    y='year', \n",
    "    data=nobel, \n",
    "    color='green')\n",
    "plt.xticks(rotation = 45,ha='right');"
   ]
  },
  {
   "cell_type": "markdown",
   "id": "343c7878",
   "metadata": {},
   "source": [
    "#### In the comparision between the category and the year they were awarded with the nobel price in the respective categories.\n",
    "#### Mostly the category of peace was the majority from the year 1930-1990."
   ]
  },
  {
   "cell_type": "code",
   "execution_count": 20,
   "id": "17ed5c93",
   "metadata": {},
   "outputs": [],
   "source": [
    "num_by_year = nobel[['year', 'category', 'id', 'recipients']].copy()\n",
    "num_by_year.drop_duplicates(subset='id', inplace=True)"
   ]
  },
  {
   "cell_type": "code",
   "execution_count": 21,
   "id": "db8c2ba3",
   "metadata": {},
   "outputs": [
    {
     "data": {
      "image/png": "[encoded data removed]",
      "text/plain": [
       "<Figure size 864x432 with 1 Axes>"
      ]
     },
     "metadata": {
      "needs_background": "light"
     },
     "output_type": "display_data"
    }
   ],
   "source": [
    "plt.figure(figsize=(12,6))\n",
    "sns.scatterplot(data=num_by_year, x='year', y='recipients', hue='category')\n",
    "plt.yticks([1,2,3])\n",
    "plt.ylabel(None)\n",
    "plt.xlabel(None)\n",
    "plt.title('Number of prize Recepients Each Year by Category')\n",
    "plt.show()"
   ]
  }
 ],
 "metadata": {
  "kernelspec": {
   "display_name": "Python 3 (ipykernel)",
   "language": "python",
   "name": "python3"
  },
  "language_info": {
   "codemirror_mode": {
    "name": "ipython",
    "version": 3
   },
   "file_extension": ".py",
   "mimetype": "text/x-python",
   "name": "python",
   "nbconvert_exporter": "python",
   "pygments_lexer": "ipython3",
   "version": "3.9.12"
  }
 },
 "nbformat": 4,
 "nbformat_minor": 5
}
