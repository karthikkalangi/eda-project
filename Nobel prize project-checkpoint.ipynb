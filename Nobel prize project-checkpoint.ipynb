{
 "cells": [
  {
   "cell_type": "code",
   "execution_count": 35,
   "id": "5d9c767d",
   "metadata": {},
   "outputs": [],
   "source": [
    "#Import important libraries \n",
    "import pandas as pd\n",
    "import numpy as np\n",
    "import matplotlib.pyplot as plt\n",
    "import seaborn as sns\n",
    "import warnings \n",
    "warnings.filterwarnings(\"ignore\")"
   ]
  },
  {
   "cell_type": "code",
   "execution_count": 13,
   "id": "91645ca6",
   "metadata": {},
   "outputs": [
    {
     "data": {
      "text/html": [
       "<div>\n",
       "<style scoped>\n",
       "    .dataframe tbody tr th:only-of-type {\n",
       "        vertical-align: middle;\n",
       "    }\n",
       "\n",
       "    .dataframe tbody tr th {\n",
       "        vertical-align: top;\n",
       "    }\n",
       "\n",
       "    .dataframe thead th {\n",
       "        text-align: right;\n",
       "    }\n",
       "</style>\n",
       "<table border=\"1\" class=\"dataframe\">\n",
       "  <thead>\n",
       "    <tr style=\"text-align: right;\">\n",
       "      <th></th>\n",
       "      <th>index</th>\n",
       "      <th>id</th>\n",
       "      <th>firstname</th>\n",
       "      <th>surname</th>\n",
       "      <th>born</th>\n",
       "      <th>died</th>\n",
       "      <th>bornCountry</th>\n",
       "      <th>bornCountryCode</th>\n",
       "      <th>bornCity</th>\n",
       "      <th>diedCountry</th>\n",
       "      <th>...</th>\n",
       "      <th>diedCity</th>\n",
       "      <th>gender</th>\n",
       "      <th>year</th>\n",
       "      <th>category</th>\n",
       "      <th>overallMotivation</th>\n",
       "      <th>share</th>\n",
       "      <th>motivation</th>\n",
       "      <th>name</th>\n",
       "      <th>city</th>\n",
       "      <th>country</th>\n",
       "    </tr>\n",
       "  </thead>\n",
       "  <tbody>\n",
       "    <tr>\n",
       "      <th>0</th>\n",
       "      <td>0</td>\n",
       "      <td>846</td>\n",
       "      <td>Elinor</td>\n",
       "      <td>Ostrom</td>\n",
       "      <td>8/7/1933</td>\n",
       "      <td>6/12/2012</td>\n",
       "      <td>USA</td>\n",
       "      <td>US</td>\n",
       "      <td>Los Angeles, CA</td>\n",
       "      <td>USA</td>\n",
       "      <td>...</td>\n",
       "      <td>Bloomington, IN</td>\n",
       "      <td>female</td>\n",
       "      <td>2009.0</td>\n",
       "      <td>economics</td>\n",
       "      <td>NaN</td>\n",
       "      <td>2.0</td>\n",
       "      <td>\"for her analysis of economic governance, espe...</td>\n",
       "      <td>Indiana University</td>\n",
       "      <td>Bloomington, IN</td>\n",
       "      <td>USA</td>\n",
       "    </tr>\n",
       "    <tr>\n",
       "      <th>1</th>\n",
       "      <td>1</td>\n",
       "      <td>846</td>\n",
       "      <td>Elinor</td>\n",
       "      <td>Ostrom</td>\n",
       "      <td>8/7/1933</td>\n",
       "      <td>6/12/2012</td>\n",
       "      <td>USA</td>\n",
       "      <td>US</td>\n",
       "      <td>Los Angeles, CA</td>\n",
       "      <td>USA</td>\n",
       "      <td>...</td>\n",
       "      <td>Bloomington, IN</td>\n",
       "      <td>female</td>\n",
       "      <td>2009.0</td>\n",
       "      <td>economics</td>\n",
       "      <td>NaN</td>\n",
       "      <td>2.0</td>\n",
       "      <td>\"for her analysis of economic governance, espe...</td>\n",
       "      <td>Arizona State University</td>\n",
       "      <td>Tempe, AZ</td>\n",
       "      <td>USA</td>\n",
       "    </tr>\n",
       "    <tr>\n",
       "      <th>2</th>\n",
       "      <td>2</td>\n",
       "      <td>783</td>\n",
       "      <td>Wangari Muta</td>\n",
       "      <td>Maathai</td>\n",
       "      <td>4/1/1940</td>\n",
       "      <td>9/25/2011</td>\n",
       "      <td>Kenya</td>\n",
       "      <td>KE</td>\n",
       "      <td>Nyeri</td>\n",
       "      <td>Kenya</td>\n",
       "      <td>...</td>\n",
       "      <td>Nairobi</td>\n",
       "      <td>female</td>\n",
       "      <td>2004.0</td>\n",
       "      <td>peace</td>\n",
       "      <td>NaN</td>\n",
       "      <td>1.0</td>\n",
       "      <td>\"for her contribution to sustainable developme...</td>\n",
       "      <td>NaN</td>\n",
       "      <td>NaN</td>\n",
       "      <td>NaN</td>\n",
       "    </tr>\n",
       "    <tr>\n",
       "      <th>3</th>\n",
       "      <td>3</td>\n",
       "      <td>230</td>\n",
       "      <td>Dorothy Crowfoot</td>\n",
       "      <td>Hodgkin</td>\n",
       "      <td>5/12/1910</td>\n",
       "      <td>7/29/1994</td>\n",
       "      <td>Egypt</td>\n",
       "      <td>EG</td>\n",
       "      <td>Cairo</td>\n",
       "      <td>United Kingdom</td>\n",
       "      <td>...</td>\n",
       "      <td>Shipston-on-Stour</td>\n",
       "      <td>female</td>\n",
       "      <td>1964.0</td>\n",
       "      <td>chemistry</td>\n",
       "      <td>NaN</td>\n",
       "      <td>1.0</td>\n",
       "      <td>\"for her determinations by X-ray techniques of...</td>\n",
       "      <td>University of Oxford, Royal Society</td>\n",
       "      <td>Oxford</td>\n",
       "      <td>United Kingdom</td>\n",
       "    </tr>\n",
       "    <tr>\n",
       "      <th>4</th>\n",
       "      <td>4</td>\n",
       "      <td>918</td>\n",
       "      <td>Youyou</td>\n",
       "      <td>Tu</td>\n",
       "      <td>12/30/1930</td>\n",
       "      <td>0000-00-00</td>\n",
       "      <td>China</td>\n",
       "      <td>CN</td>\n",
       "      <td>Zhejiang Ningbo</td>\n",
       "      <td>NaN</td>\n",
       "      <td>...</td>\n",
       "      <td>NaN</td>\n",
       "      <td>female</td>\n",
       "      <td>2015.0</td>\n",
       "      <td>medicine</td>\n",
       "      <td>NaN</td>\n",
       "      <td>2.0</td>\n",
       "      <td>\"for her discoveries concerning a novel therap...</td>\n",
       "      <td>China Academy of Traditional Chinese Medicine</td>\n",
       "      <td>Beijing</td>\n",
       "      <td>China</td>\n",
       "    </tr>\n",
       "  </tbody>\n",
       "</table>\n",
       "<p>5 rows × 21 columns</p>\n",
       "</div>"
      ],
      "text/plain": [
       "   index   id         firstname  surname        born        died bornCountry  \\\n",
       "0      0  846            Elinor   Ostrom    8/7/1933   6/12/2012         USA   \n",
       "1      1  846            Elinor   Ostrom    8/7/1933   6/12/2012         USA   \n",
       "2      2  783      Wangari Muta  Maathai    4/1/1940   9/25/2011       Kenya   \n",
       "3      3  230  Dorothy Crowfoot  Hodgkin   5/12/1910   7/29/1994       Egypt   \n",
       "4      4  918            Youyou       Tu  12/30/1930  0000-00-00       China   \n",
       "\n",
       "  bornCountryCode         bornCity     diedCountry  ...           diedCity  \\\n",
       "0              US  Los Angeles, CA             USA  ...    Bloomington, IN   \n",
       "1              US  Los Angeles, CA             USA  ...    Bloomington, IN   \n",
       "2              KE            Nyeri           Kenya  ...            Nairobi   \n",
       "3              EG            Cairo  United Kingdom  ...  Shipston-on-Stour   \n",
       "4              CN  Zhejiang Ningbo             NaN  ...                NaN   \n",
       "\n",
       "   gender    year   category overallMotivation share  \\\n",
       "0  female  2009.0  economics               NaN   2.0   \n",
       "1  female  2009.0  economics               NaN   2.0   \n",
       "2  female  2004.0      peace               NaN   1.0   \n",
       "3  female  1964.0  chemistry               NaN   1.0   \n",
       "4  female  2015.0   medicine               NaN   2.0   \n",
       "\n",
       "                                          motivation  \\\n",
       "0  \"for her analysis of economic governance, espe...   \n",
       "1  \"for her analysis of economic governance, espe...   \n",
       "2  \"for her contribution to sustainable developme...   \n",
       "3  \"for her determinations by X-ray techniques of...   \n",
       "4  \"for her discoveries concerning a novel therap...   \n",
       "\n",
       "                                            name             city  \\\n",
       "0                             Indiana University  Bloomington, IN   \n",
       "1                       Arizona State University        Tempe, AZ   \n",
       "2                                            NaN              NaN   \n",
       "3            University of Oxford, Royal Society           Oxford   \n",
       "4  China Academy of Traditional Chinese Medicine          Beijing   \n",
       "\n",
       "          country  \n",
       "0             USA  \n",
       "1             USA  \n",
       "2             NaN  \n",
       "3  United Kingdom  \n",
       "4           China  \n",
       "\n",
       "[5 rows x 21 columns]"
      ]
     },
     "execution_count": 13,
     "metadata": {},
     "output_type": "execute_result"
    }
   ],
   "source": [
    "nobel = pd.read_csv(\"C:\\\\Users\\\\karth\\\\Desktop\\\\nobel_prize_by_winner.csv\")\n",
    "nobel.head()"
   ]
  },
  {
   "cell_type": "code",
   "execution_count": 20,
   "id": "4410c67f",
   "metadata": {
    "scrolled": true
   },
   "outputs": [
    {
     "name": "stdout",
     "output_type": "stream",
     "text": [
      "<class 'pandas.core.frame.DataFrame'>\n",
      "RangeIndex: 972 entries, 0 to 971\n",
      "Data columns (total 21 columns):\n",
      " #   Column             Non-Null Count  Dtype  \n",
      "---  ------             --------------  -----  \n",
      " 0   index              972 non-null    int64  \n",
      " 1   id                 972 non-null    int64  \n",
      " 2   firstname          966 non-null    object \n",
      " 3   surname            936 non-null    object \n",
      " 4   born               946 non-null    object \n",
      " 5   died               946 non-null    object \n",
      " 6   bornCountry        940 non-null    object \n",
      " 7   bornCountryCode    940 non-null    object \n",
      " 8   bornCity           938 non-null    object \n",
      " 9   diedCountry        601 non-null    object \n",
      " 10  diedCountryCode    600 non-null    object \n",
      " 11  diedCity           595 non-null    object \n",
      " 12  gender             972 non-null    object \n",
      " 13  year               966 non-null    float64\n",
      " 14  category           966 non-null    object \n",
      " 15  overallMotivation  16 non-null     object \n",
      " 16  share              966 non-null    float64\n",
      " 17  motivation         878 non-null    object \n",
      " 18  name               720 non-null    object \n",
      " 19  city               714 non-null    object \n",
      " 20  country            714 non-null    object \n",
      "dtypes: float64(2), int64(2), object(17)\n",
      "memory usage: 159.6+ KB\n"
     ]
    }
   ],
   "source": [
    "nobel.info() "
   ]
  },
  {
   "cell_type": "code",
   "execution_count": 4,
   "id": "4737b27c",
   "metadata": {},
   "outputs": [
    {
     "data": {
      "text/plain": [
       "(972, 21)"
      ]
     },
     "execution_count": 4,
     "metadata": {},
     "output_type": "execute_result"
    }
   ],
   "source": [
    "nobel.shape"
   ]
  },
  {
   "cell_type": "markdown",
   "id": "ba86aa09",
   "metadata": {},
   "source": [
    "### Data handling and cleaning "
   ]
  },
  {
   "cell_type": "code",
   "execution_count": 5,
   "id": "443e1c88",
   "metadata": {},
   "outputs": [
    {
     "data": {
      "text/plain": [
       "index                  0\n",
       "id                     0\n",
       "firstname              6\n",
       "surname               36\n",
       "born                  26\n",
       "died                  26\n",
       "bornCountry           32\n",
       "bornCountryCode       32\n",
       "bornCity              34\n",
       "diedCountry          371\n",
       "diedCountryCode      372\n",
       "diedCity             377\n",
       "gender                 0\n",
       "year                   6\n",
       "category               6\n",
       "overallMotivation    956\n",
       "share                  6\n",
       "motivation            94\n",
       "name                 252\n",
       "city                 258\n",
       "country              258\n",
       "dtype: int64"
      ]
     },
     "execution_count": 5,
     "metadata": {},
     "output_type": "execute_result"
    }
   ],
   "source": [
    "nobel.isnull().sum()"
   ]
  },
  {
   "cell_type": "code",
   "execution_count": 6,
   "id": "92d6142b",
   "metadata": {},
   "outputs": [
    {
     "data": {
      "text/plain": [
       "6"
      ]
     },
     "execution_count": 6,
     "metadata": {},
     "output_type": "execute_result"
    }
   ],
   "source": [
    "nobel.year.isnull().sum()"
   ]
  },
  {
   "cell_type": "code",
   "execution_count": 7,
   "id": "9217fa55",
   "metadata": {},
   "outputs": [
    {
     "data": {
      "text/plain": [
       "(972, 21)"
      ]
     },
     "execution_count": 7,
     "metadata": {},
     "output_type": "execute_result"
    }
   ],
   "source": [
    "nobel.shape"
   ]
  },
  {
   "cell_type": "code",
   "execution_count": 8,
   "id": "43f1e6bf",
   "metadata": {},
   "outputs": [
    {
     "data": {
      "text/plain": [
       "0.6172839506172839"
      ]
     },
     "execution_count": 8,
     "metadata": {},
     "output_type": "execute_result"
    }
   ],
   "source": [
    "### calculate the percentage of missing values in year column\n",
    "float(100.0*6/972)"
   ]
  },
  {
   "cell_type": "markdown",
   "id": "65d59135",
   "metadata": {},
   "source": [
    "### drop the records with year missing "
   ]
  },
  {
   "cell_type": "code",
   "execution_count": 17,
   "id": "08190cf2",
   "metadata": {},
   "outputs": [
    {
     "data": {
      "text/plain": [
       "(966, 21)"
      ]
     },
     "execution_count": 17,
     "metadata": {},
     "output_type": "execute_result"
    }
   ],
   "source": [
    "nobel1 = nobel[-nobel.year.isnull()].copy()\n",
    "nobel1.shape"
   ]
  },
  {
   "cell_type": "markdown",
   "id": "809d22a5",
   "metadata": {},
   "source": [
    "### handling missing values in share "
   ]
  },
  {
   "cell_type": "code",
   "execution_count": 20,
   "id": "253fd21f",
   "metadata": {},
   "outputs": [
    {
     "data": {
      "text/plain": [
       "30"
      ]
     },
     "execution_count": 20,
     "metadata": {},
     "output_type": "execute_result"
    }
   ],
   "source": [
    "nobel1.surname.isnull().sum()"
   ]
  },
  {
   "cell_type": "code",
   "execution_count": 21,
   "id": "36ce3a7b",
   "metadata": {},
   "outputs": [
    {
     "data": {
      "text/plain": [
       "Wilson         0.004274\n",
       "Fischer        0.004274\n",
       "Smith          0.004274\n",
       "Môller         0.003205\n",
       "Szostak        0.003205\n",
       "                 ...   \n",
       "von Behring    0.001068\n",
       "Gullstrand     0.001068\n",
       "Perrin         0.001068\n",
       "Millikan       0.001068\n",
       "Lutuli         0.001068\n",
       "Name: surname, Length: 830, dtype: float64"
      ]
     },
     "execution_count": 21,
     "metadata": {},
     "output_type": "execute_result"
    }
   ],
   "source": [
    "nobel1.surname.value_counts(normalize=True)"
   ]
  },
  {
   "cell_type": "code",
   "execution_count": 24,
   "id": "590478d4",
   "metadata": {},
   "outputs": [
    {
     "data": {
      "text/plain": [
       "88"
      ]
     },
     "execution_count": 24,
     "metadata": {},
     "output_type": "execute_result"
    }
   ],
   "source": [
    "nobel1.motivation.isnull().sum()"
   ]
  },
  {
   "cell_type": "code",
   "execution_count": 25,
   "id": "df62d35a",
   "metadata": {},
   "outputs": [
    {
     "data": {
      "text/plain": [
       "9.109730848861284"
      ]
     },
     "execution_count": 25,
     "metadata": {},
     "output_type": "execute_result"
    }
   ],
   "source": [
    "float(100.0*88/966)"
   ]
  },
  {
   "cell_type": "code",
   "execution_count": 26,
   "id": "6636aeb6",
   "metadata": {},
   "outputs": [
    {
     "data": {
      "text/plain": [
       "\"for the discovery and development of the green fluorescent protein, GFP\"                                          0.005695\n",
       "\"for the discovery and the interpretation of the Cherenkov effect\"                                                 0.005695\n",
       "\"for the discovery of how chromosomes are protected by telomeres and the enzyme telomerase\"                        0.005695\n",
       "\"for mechanistic studies of DNA repair\"                                                                            0.005695\n",
       "\"for their discoveries of machinery regulating vesicle traffic, a major transport system in our cells\"             0.005695\n",
       "                                                                                                                     ...   \n",
       "\"for his discovery of the organizer effect in embryonic development\"                                               0.001139\n",
       "\"for methods of analyzing economic time series with time-varying volatility (ARCH)\"                                0.001139\n",
       "\"for methods of analyzing economic time series with common trends (cointegration)\"                                 0.001139\n",
       "\"for his discovery of the part played by the hormone of the anterior pituitary lobe in the metabolism of sugar\"    0.001139\n",
       "\"in recognition of the organization's pioneering humanitarian work on several continents\"                          0.001139\n",
       "Name: motivation, Length: 563, dtype: float64"
      ]
     },
     "execution_count": 26,
     "metadata": {},
     "output_type": "execute_result"
    }
   ],
   "source": [
    "nobel1.motivation.value_counts(normalize=True)"
   ]
  },
  {
   "cell_type": "code",
   "execution_count": 27,
   "id": "8bcc94e9",
   "metadata": {},
   "outputs": [
    {
     "data": {
      "text/plain": [
       "'\"for mechanistic studies of DNA repair\"'"
      ]
     },
     "execution_count": 27,
     "metadata": {},
     "output_type": "execute_result"
    }
   ],
   "source": [
    "### find the mode of motivation in nobel1 \n",
    "motivation_mode = nobel1.motivation.mode()[0]\n",
    "motivation_mode"
   ]
  },
  {
   "cell_type": "code",
   "execution_count": 28,
   "id": "67ef6e21",
   "metadata": {},
   "outputs": [
    {
     "data": {
      "text/plain": [
       "\"for mechanistic studies of DNA repair\"                                                                                            0.096273\n",
       "\"for their discoveries of machinery regulating vesicle traffic, a major transport system in our cells\"                             0.005176\n",
       "\"for the discovery and the interpretation of the Cherenkov effect\"                                                                 0.005176\n",
       "\"for the discovery of how chromosomes are protected by telomeres and the enzyme telomerase\"                                        0.005176\n",
       "\"for the discovery of the accelerating expansion of the Universe through observations of distant supernovae\"                       0.005176\n",
       "                                                                                                                                     ...   \n",
       "\"for his invention of the polymerase chain reaction (PCR) method\"                                                                  0.001035\n",
       "\"for his invention of the method of micro-analysis of organic substances\"                                                          0.001035\n",
       "\"for his invention of automatic regulators for use in conjunction with gas accumulators for illuminating lighthouses and buoys\"    0.001035\n",
       "\"for his invention and development of the holographic method\"                                                                      0.001035\n",
       "\"in recognition of the organization's pioneering humanitarian work on several continents\"                                          0.001035\n",
       "Name: motivation, Length: 563, dtype: float64"
      ]
     },
     "execution_count": 28,
     "metadata": {},
     "output_type": "execute_result"
    }
   ],
   "source": [
    "#### fill the missing values with mode value of motivation in nobel1\n",
    "nobel1.motivation.fillna(motivation_mode,inplace=True)\n",
    "nobel1.motivation.value_counts(normalize=True)"
   ]
  },
  {
   "cell_type": "code",
   "execution_count": 29,
   "id": "f5d7a43e",
   "metadata": {},
   "outputs": [
    {
     "data": {
      "text/plain": [
       "0"
      ]
     },
     "execution_count": 29,
     "metadata": {},
     "output_type": "execute_result"
    }
   ],
   "source": [
    "### now let's check the null values in motivation \n",
    "nobel1.motivation.isnull().sum()"
   ]
  },
  {
   "cell_type": "code",
   "execution_count": 32,
   "id": "223c40d5",
   "metadata": {},
   "outputs": [
    {
     "data": {
      "text/plain": [
       "count    972.000000\n",
       "mean     471.365226\n",
       "std      275.012711\n",
       "min        1.000000\n",
       "25%      230.750000\n",
       "50%      463.500000\n",
       "75%      720.250000\n",
       "max      934.000000\n",
       "Name: id, dtype: float64"
      ]
     },
     "execution_count": 32,
     "metadata": {},
     "output_type": "execute_result"
    }
   ],
   "source": [
    "nobel.id.describe()"
   ]
  },
  {
   "cell_type": "markdown",
   "id": "9c4b53ff",
   "metadata": {},
   "source": [
    "## univariate analysis"
   ]
  },
  {
   "cell_type": "code",
   "execution_count": 33,
   "id": "c3303706",
   "metadata": {},
   "outputs": [
    {
     "data": {
      "image/png": "[encoded data removed]",
      "text/plain": [
       "<Figure size 432x288 with 1 Axes>"
      ]
     },
     "metadata": {
      "needs_background": "light"
     },
     "output_type": "display_data"
    }
   ],
   "source": [
    "nobel.id.plot.hist()\n",
    "plt.show()"
   ]
  },
  {
   "cell_type": "code",
   "execution_count": 36,
   "id": "e79aaf96",
   "metadata": {},
   "outputs": [
    {
     "data": {
      "text/plain": [
       "<function matplotlib.pyplot.show(close=None, block=None)>"
      ]
     },
     "execution_count": 36,
     "metadata": {},
     "output_type": "execute_result"
    },
    {
     "data": {
      "image/png": "[encoded data removed]",
      "text/plain": [
       "<Figure size 432x288 with 1 Axes>"
      ]
     },
     "metadata": {
      "needs_background": "light"
     },
     "output_type": "display_data"
    }
   ],
   "source": [
    "sns.boxplot(nobel.id)\n",
    "plt.show"
   ]
  },
  {
   "cell_type": "code",
   "execution_count": 37,
   "id": "0831bf2c",
   "metadata": {},
   "outputs": [
    {
     "data": {
      "text/plain": [
       "837    3\n",
       "482    3\n",
       "846    2\n",
       "721    2\n",
       "270    2\n",
       "Name: id, dtype: int64"
      ]
     },
     "execution_count": 37,
     "metadata": {},
     "output_type": "execute_result"
    }
   ],
   "source": [
    "nobel['id'].value_counts().head()"
   ]
  },
  {
   "cell_type": "code",
   "execution_count": 38,
   "id": "7a81da05",
   "metadata": {},
   "outputs": [
    {
     "data": {
      "text/plain": [
       "2009.0    18\n",
       "2013.0    16\n",
       "2005.0    16\n",
       "2011.0    16\n",
       "2001.0    15\n",
       "          ..\n",
       "1919.0     4\n",
       "1914.0     3\n",
       "1924.0     3\n",
       "1918.0     2\n",
       "1916.0     1\n",
       "Name: year, Length: 113, dtype: int64"
      ]
     },
     "execution_count": 38,
     "metadata": {},
     "output_type": "execute_result"
    }
   ],
   "source": [
    "nobel['year'].value_counts()"
   ]
  },
  {
   "cell_type": "code",
   "execution_count": 41,
   "id": "a750cbd9",
   "metadata": {},
   "outputs": [
    {
     "data": {
      "image/png": "[encoded data removed]",
      "text/plain": [
       "<Figure size 432x288 with 1 Axes>"
      ]
     },
     "metadata": {
      "needs_background": "light"
     },
     "output_type": "display_data"
    }
   ],
   "source": [
    "nobel.year.plot.hist()\n",
    "plt.show()"
   ]
  },
  {
   "cell_type": "code",
   "execution_count": 45,
   "id": "b5248b3b",
   "metadata": {},
   "outputs": [
    {
     "data": {
      "image/png": "[encoded data removed]",
      "text/plain": [
       "<Figure size 432x288 with 1 Axes>"
      ]
     },
     "metadata": {
      "needs_background": "light"
     },
     "output_type": "display_data"
    }
   ],
   "source": [
    "sns.boxplot(nobel.year)\n",
    "plt.show()"
   ]
  },
  {
   "cell_type": "code",
   "execution_count": 40,
   "id": "acbf8a2f",
   "metadata": {},
   "outputs": [
    {
     "data": {
      "text/plain": [
       "count    966.000000\n",
       "mean       2.005176\n",
       "std        0.930193\n",
       "min        1.000000\n",
       "25%        1.000000\n",
       "50%        2.000000\n",
       "75%        3.000000\n",
       "max        4.000000\n",
       "Name: share, dtype: float64"
      ]
     },
     "execution_count": 40,
     "metadata": {},
     "output_type": "execute_result"
    }
   ],
   "source": [
    "nobel['share'].describe()"
   ]
  },
  {
   "cell_type": "code",
   "execution_count": 46,
   "id": "23f27580",
   "metadata": {},
   "outputs": [
    {
     "data": {
      "image/png": "[encoded data removed]",
      "text/plain": [
       "<Figure size 432x288 with 1 Axes>"
      ]
     },
     "metadata": {
      "needs_background": "light"
     },
     "output_type": "display_data"
    }
   ],
   "source": [
    "nobel.share.plot.hist()\n",
    "plt.show()"
   ]
  },
  {
   "cell_type": "code",
   "execution_count": 47,
   "id": "3dffea8a",
   "metadata": {},
   "outputs": [
    {
     "data": {
      "text/plain": [
       "<function matplotlib.pyplot.show(close=None, block=None)>"
      ]
     },
     "execution_count": 47,
     "metadata": {},
     "output_type": "execute_result"
    },
    {
     "data": {
      "image/png": "[encoded data removed]",
      "text/plain": [
       "<Figure size 432x288 with 1 Axes>"
      ]
     },
     "metadata": {
      "needs_background": "light"
     },
     "output_type": "display_data"
    }
   ],
   "source": [
    "sns.boxplot(nobel.share)\n",
    "plt.show"
   ]
  },
  {
   "cell_type": "code",
   "execution_count": 21,
   "id": "3f0565a4",
   "metadata": {},
   "outputs": [
    {
     "name": "stdout",
     "output_type": "stream",
     "text": [
      "Max Value 2016.0\n",
      "Min Value 1901.0\n"
     ]
    }
   ],
   "source": [
    "max=nobel[\"year\"]\n",
    "max_value=max.max()\n",
    "min=nobel[\"year\"]\n",
    "min_value=min.min()\n",
    "print(\"Max Value\",max_value)\n",
    "print(\"Min Value\",min_value)"
   ]
  },
  {
   "cell_type": "code",
   "execution_count": 22,
   "id": "a826b5e8",
   "metadata": {},
   "outputs": [],
   "source": [
    "nobel['year_str'] = nobel['year'].astype('string')\n",
    "nobel['prize_id'] = nobel['category'] + '_' + nobel['year_str']\n",
    "nobel.drop('year_str', axis=1, inplace=True)"
   ]
  },
  {
   "cell_type": "code",
   "execution_count": 23,
   "id": "365c8c65",
   "metadata": {},
   "outputs": [
    {
     "data": {
      "text/html": [
       "<div>\n",
       "<style scoped>\n",
       "    .dataframe tbody tr th:only-of-type {\n",
       "        vertical-align: middle;\n",
       "    }\n",
       "\n",
       "    .dataframe tbody tr th {\n",
       "        vertical-align: top;\n",
       "    }\n",
       "\n",
       "    .dataframe thead th {\n",
       "        text-align: right;\n",
       "    }\n",
       "</style>\n",
       "<table border=\"1\" class=\"dataframe\">\n",
       "  <thead>\n",
       "    <tr style=\"text-align: right;\">\n",
       "      <th></th>\n",
       "      <th>index</th>\n",
       "      <th>id</th>\n",
       "      <th>firstname</th>\n",
       "      <th>surname</th>\n",
       "      <th>born</th>\n",
       "      <th>died</th>\n",
       "      <th>bornCountry</th>\n",
       "      <th>bornCountryCode</th>\n",
       "      <th>bornCity</th>\n",
       "      <th>diedCountry</th>\n",
       "      <th>...</th>\n",
       "      <th>gender</th>\n",
       "      <th>year</th>\n",
       "      <th>category</th>\n",
       "      <th>overallMotivation</th>\n",
       "      <th>share</th>\n",
       "      <th>motivation</th>\n",
       "      <th>name</th>\n",
       "      <th>city</th>\n",
       "      <th>country</th>\n",
       "      <th>prize_id</th>\n",
       "    </tr>\n",
       "  </thead>\n",
       "  <tbody>\n",
       "    <tr>\n",
       "      <th>0</th>\n",
       "      <td>0</td>\n",
       "      <td>846</td>\n",
       "      <td>Elinor</td>\n",
       "      <td>Ostrom</td>\n",
       "      <td>8/7/1933</td>\n",
       "      <td>6/12/2012</td>\n",
       "      <td>USA</td>\n",
       "      <td>US</td>\n",
       "      <td>Los Angeles, CA</td>\n",
       "      <td>USA</td>\n",
       "      <td>...</td>\n",
       "      <td>female</td>\n",
       "      <td>2009.0</td>\n",
       "      <td>economics</td>\n",
       "      <td>NaN</td>\n",
       "      <td>2.0</td>\n",
       "      <td>\"for her analysis of economic governance, espe...</td>\n",
       "      <td>Indiana University</td>\n",
       "      <td>Bloomington, IN</td>\n",
       "      <td>USA</td>\n",
       "      <td>economics_2009.0</td>\n",
       "    </tr>\n",
       "    <tr>\n",
       "      <th>1</th>\n",
       "      <td>1</td>\n",
       "      <td>846</td>\n",
       "      <td>Elinor</td>\n",
       "      <td>Ostrom</td>\n",
       "      <td>8/7/1933</td>\n",
       "      <td>6/12/2012</td>\n",
       "      <td>USA</td>\n",
       "      <td>US</td>\n",
       "      <td>Los Angeles, CA</td>\n",
       "      <td>USA</td>\n",
       "      <td>...</td>\n",
       "      <td>female</td>\n",
       "      <td>2009.0</td>\n",
       "      <td>economics</td>\n",
       "      <td>NaN</td>\n",
       "      <td>2.0</td>\n",
       "      <td>\"for her analysis of economic governance, espe...</td>\n",
       "      <td>Arizona State University</td>\n",
       "      <td>Tempe, AZ</td>\n",
       "      <td>USA</td>\n",
       "      <td>economics_2009.0</td>\n",
       "    </tr>\n",
       "    <tr>\n",
       "      <th>2</th>\n",
       "      <td>2</td>\n",
       "      <td>783</td>\n",
       "      <td>Wangari Muta</td>\n",
       "      <td>Maathai</td>\n",
       "      <td>4/1/1940</td>\n",
       "      <td>9/25/2011</td>\n",
       "      <td>Kenya</td>\n",
       "      <td>KE</td>\n",
       "      <td>Nyeri</td>\n",
       "      <td>Kenya</td>\n",
       "      <td>...</td>\n",
       "      <td>female</td>\n",
       "      <td>2004.0</td>\n",
       "      <td>peace</td>\n",
       "      <td>NaN</td>\n",
       "      <td>1.0</td>\n",
       "      <td>\"for her contribution to sustainable developme...</td>\n",
       "      <td>NaN</td>\n",
       "      <td>NaN</td>\n",
       "      <td>NaN</td>\n",
       "      <td>peace_2004.0</td>\n",
       "    </tr>\n",
       "    <tr>\n",
       "      <th>3</th>\n",
       "      <td>3</td>\n",
       "      <td>230</td>\n",
       "      <td>Dorothy Crowfoot</td>\n",
       "      <td>Hodgkin</td>\n",
       "      <td>5/12/1910</td>\n",
       "      <td>7/29/1994</td>\n",
       "      <td>Egypt</td>\n",
       "      <td>EG</td>\n",
       "      <td>Cairo</td>\n",
       "      <td>United Kingdom</td>\n",
       "      <td>...</td>\n",
       "      <td>female</td>\n",
       "      <td>1964.0</td>\n",
       "      <td>chemistry</td>\n",
       "      <td>NaN</td>\n",
       "      <td>1.0</td>\n",
       "      <td>\"for her determinations by X-ray techniques of...</td>\n",
       "      <td>University of Oxford, Royal Society</td>\n",
       "      <td>Oxford</td>\n",
       "      <td>United Kingdom</td>\n",
       "      <td>chemistry_1964.0</td>\n",
       "    </tr>\n",
       "    <tr>\n",
       "      <th>4</th>\n",
       "      <td>4</td>\n",
       "      <td>918</td>\n",
       "      <td>Youyou</td>\n",
       "      <td>Tu</td>\n",
       "      <td>12/30/1930</td>\n",
       "      <td>0000-00-00</td>\n",
       "      <td>China</td>\n",
       "      <td>CN</td>\n",
       "      <td>Zhejiang Ningbo</td>\n",
       "      <td>NaN</td>\n",
       "      <td>...</td>\n",
       "      <td>female</td>\n",
       "      <td>2015.0</td>\n",
       "      <td>medicine</td>\n",
       "      <td>NaN</td>\n",
       "      <td>2.0</td>\n",
       "      <td>\"for her discoveries concerning a novel therap...</td>\n",
       "      <td>China Academy of Traditional Chinese Medicine</td>\n",
       "      <td>Beijing</td>\n",
       "      <td>China</td>\n",
       "      <td>medicine_2015.0</td>\n",
       "    </tr>\n",
       "    <tr>\n",
       "      <th>5</th>\n",
       "      <td>5</td>\n",
       "      <td>428</td>\n",
       "      <td>Barbara</td>\n",
       "      <td>McClintock</td>\n",
       "      <td>6/16/1902</td>\n",
       "      <td>9/2/1992</td>\n",
       "      <td>USA</td>\n",
       "      <td>US</td>\n",
       "      <td>Hartford, CT</td>\n",
       "      <td>USA</td>\n",
       "      <td>...</td>\n",
       "      <td>female</td>\n",
       "      <td>1983.0</td>\n",
       "      <td>medicine</td>\n",
       "      <td>NaN</td>\n",
       "      <td>1.0</td>\n",
       "      <td>\"for her discovery of mobile genetic elements\"</td>\n",
       "      <td>Cold Spring Harbor Laboratory</td>\n",
       "      <td>Cold Spring Harbor, NY</td>\n",
       "      <td>USA</td>\n",
       "      <td>medicine_1983.0</td>\n",
       "    </tr>\n",
       "    <tr>\n",
       "      <th>6</th>\n",
       "      <td>6</td>\n",
       "      <td>773</td>\n",
       "      <td>Shirin</td>\n",
       "      <td>Ebadi</td>\n",
       "      <td>6/21/1947</td>\n",
       "      <td>0000-00-00</td>\n",
       "      <td>Iran</td>\n",
       "      <td>IR</td>\n",
       "      <td>Hamadan</td>\n",
       "      <td>NaN</td>\n",
       "      <td>...</td>\n",
       "      <td>female</td>\n",
       "      <td>2003.0</td>\n",
       "      <td>peace</td>\n",
       "      <td>NaN</td>\n",
       "      <td>1.0</td>\n",
       "      <td>\"for her efforts for democracy and human right...</td>\n",
       "      <td>NaN</td>\n",
       "      <td>NaN</td>\n",
       "      <td>NaN</td>\n",
       "      <td>peace_2003.0</td>\n",
       "    </tr>\n",
       "    <tr>\n",
       "      <th>7</th>\n",
       "      <td>7</td>\n",
       "      <td>597</td>\n",
       "      <td>Grazia</td>\n",
       "      <td>Deledda</td>\n",
       "      <td>09/27/1871</td>\n",
       "      <td>8/15/1936</td>\n",
       "      <td>Italy</td>\n",
       "      <td>IT</td>\n",
       "      <td>Nuoro, Sardinia</td>\n",
       "      <td>Italy</td>\n",
       "      <td>...</td>\n",
       "      <td>female</td>\n",
       "      <td>1926.0</td>\n",
       "      <td>literature</td>\n",
       "      <td>NaN</td>\n",
       "      <td>1.0</td>\n",
       "      <td>\"for her idealistically inspired writings whic...</td>\n",
       "      <td>NaN</td>\n",
       "      <td>NaN</td>\n",
       "      <td>NaN</td>\n",
       "      <td>literature_1926.0</td>\n",
       "    </tr>\n",
       "    <tr>\n",
       "      <th>8</th>\n",
       "      <td>8</td>\n",
       "      <td>615</td>\n",
       "      <td>Gabriela</td>\n",
       "      <td>Mistral</td>\n",
       "      <td>04/07/1889</td>\n",
       "      <td>1/10/1957</td>\n",
       "      <td>Chile</td>\n",
       "      <td>CL</td>\n",
       "      <td>Vicu_a</td>\n",
       "      <td>USA</td>\n",
       "      <td>...</td>\n",
       "      <td>female</td>\n",
       "      <td>1945.0</td>\n",
       "      <td>literature</td>\n",
       "      <td>NaN</td>\n",
       "      <td>1.0</td>\n",
       "      <td>\"for her lyric poetry which, inspired by power...</td>\n",
       "      <td>NaN</td>\n",
       "      <td>NaN</td>\n",
       "      <td>NaN</td>\n",
       "      <td>literature_1945.0</td>\n",
       "    </tr>\n",
       "    <tr>\n",
       "      <th>9</th>\n",
       "      <td>9</td>\n",
       "      <td>782</td>\n",
       "      <td>Elfriede</td>\n",
       "      <td>Jelinek</td>\n",
       "      <td>10/20/1946</td>\n",
       "      <td>0000-00-00</td>\n",
       "      <td>Austria</td>\n",
       "      <td>AT</td>\n",
       "      <td>Môrzzuschlag</td>\n",
       "      <td>NaN</td>\n",
       "      <td>...</td>\n",
       "      <td>female</td>\n",
       "      <td>2004.0</td>\n",
       "      <td>literature</td>\n",
       "      <td>NaN</td>\n",
       "      <td>1.0</td>\n",
       "      <td>\"for her musical flow of voices and counter-vo...</td>\n",
       "      <td>NaN</td>\n",
       "      <td>NaN</td>\n",
       "      <td>NaN</td>\n",
       "      <td>literature_2004.0</td>\n",
       "    </tr>\n",
       "  </tbody>\n",
       "</table>\n",
       "<p>10 rows × 22 columns</p>\n",
       "</div>"
      ],
      "text/plain": [
       "   index   id         firstname     surname        born        died  \\\n",
       "0      0  846            Elinor      Ostrom    8/7/1933   6/12/2012   \n",
       "1      1  846            Elinor      Ostrom    8/7/1933   6/12/2012   \n",
       "2      2  783      Wangari Muta     Maathai    4/1/1940   9/25/2011   \n",
       "3      3  230  Dorothy Crowfoot     Hodgkin   5/12/1910   7/29/1994   \n",
       "4      4  918            Youyou          Tu  12/30/1930  0000-00-00   \n",
       "5      5  428           Barbara  McClintock   6/16/1902    9/2/1992   \n",
       "6      6  773            Shirin       Ebadi   6/21/1947  0000-00-00   \n",
       "7      7  597            Grazia     Deledda  09/27/1871   8/15/1936   \n",
       "8      8  615          Gabriela     Mistral  04/07/1889   1/10/1957   \n",
       "9      9  782          Elfriede     Jelinek  10/20/1946  0000-00-00   \n",
       "\n",
       "  bornCountry bornCountryCode         bornCity     diedCountry  ...  gender  \\\n",
       "0         USA              US  Los Angeles, CA             USA  ...  female   \n",
       "1         USA              US  Los Angeles, CA             USA  ...  female   \n",
       "2       Kenya              KE            Nyeri           Kenya  ...  female   \n",
       "3       Egypt              EG            Cairo  United Kingdom  ...  female   \n",
       "4       China              CN  Zhejiang Ningbo             NaN  ...  female   \n",
       "5         USA              US     Hartford, CT             USA  ...  female   \n",
       "6        Iran              IR          Hamadan             NaN  ...  female   \n",
       "7       Italy              IT  Nuoro, Sardinia           Italy  ...  female   \n",
       "8       Chile              CL           Vicu_a             USA  ...  female   \n",
       "9     Austria              AT     Môrzzuschlag             NaN  ...  female   \n",
       "\n",
       "     year    category  overallMotivation share  \\\n",
       "0  2009.0   economics                NaN   2.0   \n",
       "1  2009.0   economics                NaN   2.0   \n",
       "2  2004.0       peace                NaN   1.0   \n",
       "3  1964.0   chemistry                NaN   1.0   \n",
       "4  2015.0    medicine                NaN   2.0   \n",
       "5  1983.0    medicine                NaN   1.0   \n",
       "6  2003.0       peace                NaN   1.0   \n",
       "7  1926.0  literature                NaN   1.0   \n",
       "8  1945.0  literature                NaN   1.0   \n",
       "9  2004.0  literature                NaN   1.0   \n",
       "\n",
       "                                          motivation  \\\n",
       "0  \"for her analysis of economic governance, espe...   \n",
       "1  \"for her analysis of economic governance, espe...   \n",
       "2  \"for her contribution to sustainable developme...   \n",
       "3  \"for her determinations by X-ray techniques of...   \n",
       "4  \"for her discoveries concerning a novel therap...   \n",
       "5     \"for her discovery of mobile genetic elements\"   \n",
       "6  \"for her efforts for democracy and human right...   \n",
       "7  \"for her idealistically inspired writings whic...   \n",
       "8  \"for her lyric poetry which, inspired by power...   \n",
       "9  \"for her musical flow of voices and counter-vo...   \n",
       "\n",
       "                                            name                    city  \\\n",
       "0                             Indiana University         Bloomington, IN   \n",
       "1                       Arizona State University               Tempe, AZ   \n",
       "2                                            NaN                     NaN   \n",
       "3            University of Oxford, Royal Society                  Oxford   \n",
       "4  China Academy of Traditional Chinese Medicine                 Beijing   \n",
       "5                  Cold Spring Harbor Laboratory  Cold Spring Harbor, NY   \n",
       "6                                            NaN                     NaN   \n",
       "7                                            NaN                     NaN   \n",
       "8                                            NaN                     NaN   \n",
       "9                                            NaN                     NaN   \n",
       "\n",
       "          country           prize_id  \n",
       "0             USA   economics_2009.0  \n",
       "1             USA   economics_2009.0  \n",
       "2             NaN       peace_2004.0  \n",
       "3  United Kingdom   chemistry_1964.0  \n",
       "4           China    medicine_2015.0  \n",
       "5             USA    medicine_1983.0  \n",
       "6             NaN       peace_2003.0  \n",
       "7             NaN  literature_1926.0  \n",
       "8             NaN  literature_1945.0  \n",
       "9             NaN  literature_2004.0  \n",
       "\n",
       "[10 rows x 22 columns]"
      ]
     },
     "execution_count": 23,
     "metadata": {},
     "output_type": "execute_result"
    }
   ],
   "source": [
    "nobel.head(10)"
   ]
  },
  {
   "cell_type": "markdown",
   "id": "b773e235",
   "metadata": {},
   "source": [
    "## Bivariate analysis"
   ]
  },
  {
   "cell_type": "code",
   "execution_count": 55,
   "id": "74351d15",
   "metadata": {},
   "outputs": [
    {
     "data": {
      "image/png": "[encoded data removed]",
      "text/plain": [
       "<Figure size 864x432 with 1 Axes>"
      ]
     },
     "metadata": {
      "needs_background": "light"
     },
     "output_type": "display_data"
    }
   ],
   "source": [
    "year = nobel.groupby('category')['year'].min().reset_index()\n",
    "plt.figure(figsize=(12,6))\n",
    "sns.barplot(data=year, x='category', y='year')\n",
    "plt.ylim([1856, 2000])\n",
    "plt.xlabel('Nobel Prize Fields')\n",
    "plt.show()"
   ]
  },
  {
   "cell_type": "code",
   "execution_count": 51,
   "id": "ebf3e488",
   "metadata": {},
   "outputs": [
    {
     "data": {
      "image/png": "[encoded data removed]",
      "text/plain": [
       "<Figure size 432x288 with 1 Axes>"
      ]
     },
     "metadata": {
      "needs_background": "light"
     },
     "output_type": "display_data"
    }
   ],
   "source": [
    "plt.scatter(nobel.year,nobel.id)\n",
    "plt.xlabel('year')\n",
    "plt.ylabel('id')\n",
    "plt.show()"
   ]
  },
  {
   "cell_type": "code",
   "execution_count": 57,
   "id": "4b0895ae",
   "metadata": {},
   "outputs": [
    {
     "data": {
      "image/png": "[encoded data removed]",
      "text/plain": [
       "<Figure size 720x288 with 1 Axes>"
      ]
     },
     "metadata": {
      "needs_background": "light"
     },
     "output_type": "display_data"
    }
   ],
   "source": [
    "id = nobel.groupby('year')['id'].min().reset_index()\n",
    "plt.figure(figsize=(10,4))\n",
    "sns.barplot(data=id, x='year', y='id')\n",
    "plt.xlabel('year')\n",
    "plt.ylabel('id')\n",
    "plt.show()"
   ]
  },
  {
   "cell_type": "code",
   "execution_count": 25,
   "id": "0d45a849",
   "metadata": {
    "scrolled": true
   },
   "outputs": [],
   "source": [
    "recipients = nobel.groupby('id')['firstname'].count().reset_index()\n",
    "recipients.columns = ['id', 'recipients']\n",
    "recipients.sort_values(by='recipients', ascending=False, inplace=True)"
   ]
  },
  {
   "cell_type": "code",
   "execution_count": 26,
   "id": "b98c0f54",
   "metadata": {},
   "outputs": [
    {
     "data": {
      "text/html": [
       "<div>\n",
       "<style scoped>\n",
       "    .dataframe tbody tr th:only-of-type {\n",
       "        vertical-align: middle;\n",
       "    }\n",
       "\n",
       "    .dataframe tbody tr th {\n",
       "        vertical-align: top;\n",
       "    }\n",
       "\n",
       "    .dataframe thead th {\n",
       "        text-align: right;\n",
       "    }\n",
       "</style>\n",
       "<table border=\"1\" class=\"dataframe\">\n",
       "  <thead>\n",
       "    <tr style=\"text-align: right;\">\n",
       "      <th></th>\n",
       "      <th>id</th>\n",
       "      <th>recipients</th>\n",
       "    </tr>\n",
       "  </thead>\n",
       "  <tbody>\n",
       "    <tr>\n",
       "      <th>811</th>\n",
       "      <td>837</td>\n",
       "      <td>3</td>\n",
       "    </tr>\n",
       "    <tr>\n",
       "      <th>475</th>\n",
       "      <td>482</td>\n",
       "      <td>3</td>\n",
       "    </tr>\n",
       "    <tr>\n",
       "      <th>838</th>\n",
       "      <td>866</td>\n",
       "      <td>2</td>\n",
       "    </tr>\n",
       "    <tr>\n",
       "      <th>211</th>\n",
       "      <td>216</td>\n",
       "      <td>2</td>\n",
       "    </tr>\n",
       "    <tr>\n",
       "      <th>64</th>\n",
       "      <td>66</td>\n",
       "      <td>2</td>\n",
       "    </tr>\n",
       "    <tr>\n",
       "      <th>...</th>\n",
       "      <td>...</td>\n",
       "      <td>...</td>\n",
       "    </tr>\n",
       "    <tr>\n",
       "      <th>870</th>\n",
       "      <td>898</td>\n",
       "      <td>0</td>\n",
       "    </tr>\n",
       "    <tr>\n",
       "      <th>871</th>\n",
       "      <td>899</td>\n",
       "      <td>0</td>\n",
       "    </tr>\n",
       "    <tr>\n",
       "      <th>872</th>\n",
       "      <td>900</td>\n",
       "      <td>0</td>\n",
       "    </tr>\n",
       "    <tr>\n",
       "      <th>873</th>\n",
       "      <td>901</td>\n",
       "      <td>0</td>\n",
       "    </tr>\n",
       "    <tr>\n",
       "      <th>874</th>\n",
       "      <td>902</td>\n",
       "      <td>0</td>\n",
       "    </tr>\n",
       "  </tbody>\n",
       "</table>\n",
       "<p>907 rows × 2 columns</p>\n",
       "</div>"
      ],
      "text/plain": [
       "      id  recipients\n",
       "811  837           3\n",
       "475  482           3\n",
       "838  866           2\n",
       "211  216           2\n",
       "64    66           2\n",
       "..   ...         ...\n",
       "870  898           0\n",
       "871  899           0\n",
       "872  900           0\n",
       "873  901           0\n",
       "874  902           0\n",
       "\n",
       "[907 rows x 2 columns]"
      ]
     },
     "execution_count": 26,
     "metadata": {},
     "output_type": "execute_result"
    }
   ],
   "source": [
    "recipients"
   ]
  },
  {
   "cell_type": "code",
   "execution_count": 27,
   "id": "e922a14e",
   "metadata": {},
   "outputs": [],
   "source": [
    "nobel = nobel.merge(recipients, how='left', on='id')"
   ]
  },
  {
   "cell_type": "code",
   "execution_count": 28,
   "id": "2289fca8",
   "metadata": {},
   "outputs": [
    {
     "data": {
      "text/html": [
       "<div>\n",
       "<style scoped>\n",
       "    .dataframe tbody tr th:only-of-type {\n",
       "        vertical-align: middle;\n",
       "    }\n",
       "\n",
       "    .dataframe tbody tr th {\n",
       "        vertical-align: top;\n",
       "    }\n",
       "\n",
       "    .dataframe thead th {\n",
       "        text-align: right;\n",
       "    }\n",
       "</style>\n",
       "<table border=\"1\" class=\"dataframe\">\n",
       "  <thead>\n",
       "    <tr style=\"text-align: right;\">\n",
       "      <th></th>\n",
       "      <th>index</th>\n",
       "      <th>id</th>\n",
       "      <th>firstname</th>\n",
       "      <th>surname</th>\n",
       "      <th>born</th>\n",
       "      <th>died</th>\n",
       "      <th>bornCountry</th>\n",
       "      <th>bornCountryCode</th>\n",
       "      <th>bornCity</th>\n",
       "      <th>diedCountry</th>\n",
       "      <th>...</th>\n",
       "      <th>year</th>\n",
       "      <th>category</th>\n",
       "      <th>overallMotivation</th>\n",
       "      <th>share</th>\n",
       "      <th>motivation</th>\n",
       "      <th>name</th>\n",
       "      <th>city</th>\n",
       "      <th>country</th>\n",
       "      <th>prize_id</th>\n",
       "      <th>recipients</th>\n",
       "    </tr>\n",
       "  </thead>\n",
       "  <tbody>\n",
       "    <tr>\n",
       "      <th>0</th>\n",
       "      <td>0</td>\n",
       "      <td>846</td>\n",
       "      <td>Elinor</td>\n",
       "      <td>Ostrom</td>\n",
       "      <td>8/7/1933</td>\n",
       "      <td>6/12/2012</td>\n",
       "      <td>USA</td>\n",
       "      <td>US</td>\n",
       "      <td>Los Angeles, CA</td>\n",
       "      <td>USA</td>\n",
       "      <td>...</td>\n",
       "      <td>2009.0</td>\n",
       "      <td>economics</td>\n",
       "      <td>NaN</td>\n",
       "      <td>2.0</td>\n",
       "      <td>\"for her analysis of economic governance, espe...</td>\n",
       "      <td>Indiana University</td>\n",
       "      <td>Bloomington, IN</td>\n",
       "      <td>USA</td>\n",
       "      <td>economics_2009.0</td>\n",
       "      <td>2</td>\n",
       "    </tr>\n",
       "    <tr>\n",
       "      <th>1</th>\n",
       "      <td>1</td>\n",
       "      <td>846</td>\n",
       "      <td>Elinor</td>\n",
       "      <td>Ostrom</td>\n",
       "      <td>8/7/1933</td>\n",
       "      <td>6/12/2012</td>\n",
       "      <td>USA</td>\n",
       "      <td>US</td>\n",
       "      <td>Los Angeles, CA</td>\n",
       "      <td>USA</td>\n",
       "      <td>...</td>\n",
       "      <td>2009.0</td>\n",
       "      <td>economics</td>\n",
       "      <td>NaN</td>\n",
       "      <td>2.0</td>\n",
       "      <td>\"for her analysis of economic governance, espe...</td>\n",
       "      <td>Arizona State University</td>\n",
       "      <td>Tempe, AZ</td>\n",
       "      <td>USA</td>\n",
       "      <td>economics_2009.0</td>\n",
       "      <td>2</td>\n",
       "    </tr>\n",
       "    <tr>\n",
       "      <th>2</th>\n",
       "      <td>2</td>\n",
       "      <td>783</td>\n",
       "      <td>Wangari Muta</td>\n",
       "      <td>Maathai</td>\n",
       "      <td>4/1/1940</td>\n",
       "      <td>9/25/2011</td>\n",
       "      <td>Kenya</td>\n",
       "      <td>KE</td>\n",
       "      <td>Nyeri</td>\n",
       "      <td>Kenya</td>\n",
       "      <td>...</td>\n",
       "      <td>2004.0</td>\n",
       "      <td>peace</td>\n",
       "      <td>NaN</td>\n",
       "      <td>1.0</td>\n",
       "      <td>\"for her contribution to sustainable developme...</td>\n",
       "      <td>NaN</td>\n",
       "      <td>NaN</td>\n",
       "      <td>NaN</td>\n",
       "      <td>peace_2004.0</td>\n",
       "      <td>1</td>\n",
       "    </tr>\n",
       "    <tr>\n",
       "      <th>3</th>\n",
       "      <td>3</td>\n",
       "      <td>230</td>\n",
       "      <td>Dorothy Crowfoot</td>\n",
       "      <td>Hodgkin</td>\n",
       "      <td>5/12/1910</td>\n",
       "      <td>7/29/1994</td>\n",
       "      <td>Egypt</td>\n",
       "      <td>EG</td>\n",
       "      <td>Cairo</td>\n",
       "      <td>United Kingdom</td>\n",
       "      <td>...</td>\n",
       "      <td>1964.0</td>\n",
       "      <td>chemistry</td>\n",
       "      <td>NaN</td>\n",
       "      <td>1.0</td>\n",
       "      <td>\"for her determinations by X-ray techniques of...</td>\n",
       "      <td>University of Oxford, Royal Society</td>\n",
       "      <td>Oxford</td>\n",
       "      <td>United Kingdom</td>\n",
       "      <td>chemistry_1964.0</td>\n",
       "      <td>1</td>\n",
       "    </tr>\n",
       "    <tr>\n",
       "      <th>4</th>\n",
       "      <td>4</td>\n",
       "      <td>918</td>\n",
       "      <td>Youyou</td>\n",
       "      <td>Tu</td>\n",
       "      <td>12/30/1930</td>\n",
       "      <td>0000-00-00</td>\n",
       "      <td>China</td>\n",
       "      <td>CN</td>\n",
       "      <td>Zhejiang Ningbo</td>\n",
       "      <td>NaN</td>\n",
       "      <td>...</td>\n",
       "      <td>2015.0</td>\n",
       "      <td>medicine</td>\n",
       "      <td>NaN</td>\n",
       "      <td>2.0</td>\n",
       "      <td>\"for her discoveries concerning a novel therap...</td>\n",
       "      <td>China Academy of Traditional Chinese Medicine</td>\n",
       "      <td>Beijing</td>\n",
       "      <td>China</td>\n",
       "      <td>medicine_2015.0</td>\n",
       "      <td>1</td>\n",
       "    </tr>\n",
       "  </tbody>\n",
       "</table>\n",
       "<p>5 rows × 23 columns</p>\n",
       "</div>"
      ],
      "text/plain": [
       "   index   id         firstname  surname        born        died bornCountry  \\\n",
       "0      0  846            Elinor   Ostrom    8/7/1933   6/12/2012         USA   \n",
       "1      1  846            Elinor   Ostrom    8/7/1933   6/12/2012         USA   \n",
       "2      2  783      Wangari Muta  Maathai    4/1/1940   9/25/2011       Kenya   \n",
       "3      3  230  Dorothy Crowfoot  Hodgkin   5/12/1910   7/29/1994       Egypt   \n",
       "4      4  918            Youyou       Tu  12/30/1930  0000-00-00       China   \n",
       "\n",
       "  bornCountryCode         bornCity     diedCountry  ...    year   category  \\\n",
       "0              US  Los Angeles, CA             USA  ...  2009.0  economics   \n",
       "1              US  Los Angeles, CA             USA  ...  2009.0  economics   \n",
       "2              KE            Nyeri           Kenya  ...  2004.0      peace   \n",
       "3              EG            Cairo  United Kingdom  ...  1964.0  chemistry   \n",
       "4              CN  Zhejiang Ningbo             NaN  ...  2015.0   medicine   \n",
       "\n",
       "  overallMotivation  share                                         motivation  \\\n",
       "0               NaN    2.0  \"for her analysis of economic governance, espe...   \n",
       "1               NaN    2.0  \"for her analysis of economic governance, espe...   \n",
       "2               NaN    1.0  \"for her contribution to sustainable developme...   \n",
       "3               NaN    1.0  \"for her determinations by X-ray techniques of...   \n",
       "4               NaN    2.0  \"for her discoveries concerning a novel therap...   \n",
       "\n",
       "                                            name             city  \\\n",
       "0                             Indiana University  Bloomington, IN   \n",
       "1                       Arizona State University        Tempe, AZ   \n",
       "2                                            NaN              NaN   \n",
       "3            University of Oxford, Royal Society           Oxford   \n",
       "4  China Academy of Traditional Chinese Medicine          Beijing   \n",
       "\n",
       "          country          prize_id recipients  \n",
       "0             USA  economics_2009.0          2  \n",
       "1             USA  economics_2009.0          2  \n",
       "2             NaN      peace_2004.0          1  \n",
       "3  United Kingdom  chemistry_1964.0          1  \n",
       "4           China   medicine_2015.0          1  \n",
       "\n",
       "[5 rows x 23 columns]"
      ]
     },
     "execution_count": 28,
     "metadata": {},
     "output_type": "execute_result"
    }
   ],
   "source": [
    "nobel.head()"
   ]
  },
  {
   "cell_type": "code",
   "execution_count": 29,
   "id": "d6cd531b",
   "metadata": {},
   "outputs": [],
   "source": [
    "num_by_year = nobel[['year', 'category', 'id', 'recipients']].copy()\n",
    "num_by_year.drop_duplicates(subset='id', inplace=True)"
   ]
  },
  {
   "cell_type": "code",
   "execution_count": 30,
   "id": "18699e8e",
   "metadata": {},
   "outputs": [
    {
     "data": {
      "image/png": "[encoded data removed]",
      "text/plain": [
       "<Figure size 864x432 with 1 Axes>"
      ]
     },
     "metadata": {
      "needs_background": "light"
     },
     "output_type": "display_data"
    }
   ],
   "source": [
    "plt.figure(figsize=(12,6))\n",
    "sb.scatterplot(data=num_by_year, x='year', y='recipients', hue='category')\n",
    "plt.yticks([1,2,3])\n",
    "plt.ylabel(None)\n",
    "plt.xlabel(None)\n",
    "plt.title('Number of prize Recepients Each Year by Category')\n",
    "plt.show()"
   ]
  },
  {
   "cell_type": "code",
   "execution_count": 31,
   "id": "50ce0c70",
   "metadata": {},
   "outputs": [
    {
     "data": {
      "text/html": [
       "<div>\n",
       "<style scoped>\n",
       "    .dataframe tbody tr th:only-of-type {\n",
       "        vertical-align: middle;\n",
       "    }\n",
       "\n",
       "    .dataframe tbody tr th {\n",
       "        vertical-align: top;\n",
       "    }\n",
       "\n",
       "    .dataframe thead th {\n",
       "        text-align: right;\n",
       "    }\n",
       "</style>\n",
       "<table border=\"1\" class=\"dataframe\">\n",
       "  <thead>\n",
       "    <tr style=\"text-align: right;\">\n",
       "      <th></th>\n",
       "      <th>year</th>\n",
       "      <th>category</th>\n",
       "      <th>id</th>\n",
       "      <th>firstname</th>\n",
       "      <th>surname</th>\n",
       "      <th>motivation</th>\n",
       "    </tr>\n",
       "  </thead>\n",
       "  <tbody>\n",
       "    <tr>\n",
       "      <th>0</th>\n",
       "      <td>2016</td>\n",
       "      <td>physics</td>\n",
       "      <td>928</td>\n",
       "      <td>David J.</td>\n",
       "      <td>Thouless</td>\n",
       "      <td>\"for theoretical discoveries of topological ph...</td>\n",
       "    </tr>\n",
       "    <tr>\n",
       "      <th>1</th>\n",
       "      <td>2016</td>\n",
       "      <td>physics</td>\n",
       "      <td>929</td>\n",
       "      <td>F. Duncan M.</td>\n",
       "      <td>Haldane</td>\n",
       "      <td>\"for theoretical discoveries of topological ph...</td>\n",
       "    </tr>\n",
       "    <tr>\n",
       "      <th>2</th>\n",
       "      <td>2016</td>\n",
       "      <td>physics</td>\n",
       "      <td>930</td>\n",
       "      <td>J. Michael</td>\n",
       "      <td>Kosterlitz</td>\n",
       "      <td>\"for theoretical discoveries of topological ph...</td>\n",
       "    </tr>\n",
       "    <tr>\n",
       "      <th>3</th>\n",
       "      <td>2016</td>\n",
       "      <td>chemistry</td>\n",
       "      <td>931</td>\n",
       "      <td>Jean-Pierre</td>\n",
       "      <td>Sauvage</td>\n",
       "      <td>\"for the design and synthesis of molecular mac...</td>\n",
       "    </tr>\n",
       "    <tr>\n",
       "      <th>4</th>\n",
       "      <td>2016</td>\n",
       "      <td>chemistry</td>\n",
       "      <td>932</td>\n",
       "      <td>Sir J. Fraser</td>\n",
       "      <td>Stoddart</td>\n",
       "      <td>\"for the design and synthesis of molecular mac...</td>\n",
       "    </tr>\n",
       "    <tr>\n",
       "      <th>5</th>\n",
       "      <td>2016</td>\n",
       "      <td>chemistry</td>\n",
       "      <td>933</td>\n",
       "      <td>Bernard L.</td>\n",
       "      <td>Feringa</td>\n",
       "      <td>\"for the design and synthesis of molecular mac...</td>\n",
       "    </tr>\n",
       "    <tr>\n",
       "      <th>6</th>\n",
       "      <td>2016</td>\n",
       "      <td>medicine</td>\n",
       "      <td>927</td>\n",
       "      <td>Yoshinori</td>\n",
       "      <td>Ohsumi</td>\n",
       "      <td>\"for his discoveries of mechanisms for autophagy\"</td>\n",
       "    </tr>\n",
       "    <tr>\n",
       "      <th>7</th>\n",
       "      <td>2016</td>\n",
       "      <td>peace</td>\n",
       "      <td>934</td>\n",
       "      <td>Juan Manuel</td>\n",
       "      <td>Santos</td>\n",
       "      <td>\"for his resolute efforts to bring the country...</td>\n",
       "    </tr>\n",
       "    <tr>\n",
       "      <th>8</th>\n",
       "      <td>2015</td>\n",
       "      <td>physics</td>\n",
       "      <td>919</td>\n",
       "      <td>Takaaki</td>\n",
       "      <td>Kajita</td>\n",
       "      <td>\"for the discovery of neutrino oscillations, w...</td>\n",
       "    </tr>\n",
       "    <tr>\n",
       "      <th>9</th>\n",
       "      <td>2015</td>\n",
       "      <td>physics</td>\n",
       "      <td>920</td>\n",
       "      <td>Arthur B.</td>\n",
       "      <td>McDonald</td>\n",
       "      <td>\"for the discovery of neutrino oscillations, w...</td>\n",
       "    </tr>\n",
       "  </tbody>\n",
       "</table>\n",
       "</div>"
      ],
      "text/plain": [
       "   year   category   id      firstname     surname  \\\n",
       "0  2016    physics  928       David J.    Thouless   \n",
       "1  2016    physics  929   F. Duncan M.     Haldane   \n",
       "2  2016    physics  930     J. Michael  Kosterlitz   \n",
       "3  2016  chemistry  931    Jean-Pierre     Sauvage   \n",
       "4  2016  chemistry  932  Sir J. Fraser    Stoddart   \n",
       "5  2016  chemistry  933     Bernard L.     Feringa   \n",
       "6  2016   medicine  927      Yoshinori      Ohsumi   \n",
       "7  2016      peace  934    Juan Manuel      Santos   \n",
       "8  2015    physics  919        Takaaki      Kajita   \n",
       "9  2015    physics  920      Arthur B.    McDonald   \n",
       "\n",
       "                                          motivation  \n",
       "0  \"for theoretical discoveries of topological ph...  \n",
       "1  \"for theoretical discoveries of topological ph...  \n",
       "2  \"for theoretical discoveries of topological ph...  \n",
       "3  \"for the design and synthesis of molecular mac...  \n",
       "4  \"for the design and synthesis of molecular mac...  \n",
       "5  \"for the design and synthesis of molecular mac...  \n",
       "6  \"for his discoveries of mechanisms for autophagy\"  \n",
       "7  \"for his resolute efforts to bring the country...  \n",
       "8  \"for the discovery of neutrino oscillations, w...  \n",
       "9  \"for the discovery of neutrino oscillations, w...  "
      ]
     },
     "execution_count": 31,
     "metadata": {},
     "output_type": "execute_result"
    }
   ],
   "source": [
    "winners=pd.read_csv(\"C:\\\\Users\\\\karth\\\\Desktop\\\\nobel_prizes_by_date.csv\")\n",
    "winners.drop(['index', 'overallMotivation',\"share\"], axis=1, inplace=True)\n",
    "winners.head(10)"
   ]
  },
  {
   "cell_type": "code",
   "execution_count": 32,
   "id": "d9836f43",
   "metadata": {},
   "outputs": [
    {
     "data": {
      "text/html": [
       "<div>\n",
       "<style scoped>\n",
       "    .dataframe tbody tr th:only-of-type {\n",
       "        vertical-align: middle;\n",
       "    }\n",
       "\n",
       "    .dataframe tbody tr th {\n",
       "        vertical-align: top;\n",
       "    }\n",
       "\n",
       "    .dataframe thead th {\n",
       "        text-align: right;\n",
       "    }\n",
       "</style>\n",
       "<table border=\"1\" class=\"dataframe\">\n",
       "  <thead>\n",
       "    <tr style=\"text-align: right;\">\n",
       "      <th></th>\n",
       "      <th>year</th>\n",
       "      <th>category</th>\n",
       "      <th>id</th>\n",
       "      <th>firstname</th>\n",
       "      <th>surname</th>\n",
       "      <th>motivation</th>\n",
       "    </tr>\n",
       "  </thead>\n",
       "  <tbody>\n",
       "    <tr>\n",
       "      <th>903</th>\n",
       "      <td>1901</td>\n",
       "      <td>chemistry</td>\n",
       "      <td>160</td>\n",
       "      <td>Jacobus Henricus</td>\n",
       "      <td>van 't Hoff</td>\n",
       "      <td>\"in recognition of the extraordinary services ...</td>\n",
       "    </tr>\n",
       "    <tr>\n",
       "      <th>904</th>\n",
       "      <td>1901</td>\n",
       "      <td>medicine</td>\n",
       "      <td>293</td>\n",
       "      <td>Emil Adolf</td>\n",
       "      <td>von Behring</td>\n",
       "      <td>\"for his work on serum therapy, especially its...</td>\n",
       "    </tr>\n",
       "    <tr>\n",
       "      <th>905</th>\n",
       "      <td>1901</td>\n",
       "      <td>literature</td>\n",
       "      <td>569</td>\n",
       "      <td>Sully</td>\n",
       "      <td>Prudhomme</td>\n",
       "      <td>\"in special recognition of his poetic composit...</td>\n",
       "    </tr>\n",
       "    <tr>\n",
       "      <th>906</th>\n",
       "      <td>1901</td>\n",
       "      <td>peace</td>\n",
       "      <td>462</td>\n",
       "      <td>Jean Henry</td>\n",
       "      <td>Dunant</td>\n",
       "      <td>NaN</td>\n",
       "    </tr>\n",
       "    <tr>\n",
       "      <th>907</th>\n",
       "      <td>1901</td>\n",
       "      <td>peace</td>\n",
       "      <td>463</td>\n",
       "      <td>Frdric</td>\n",
       "      <td>Passy</td>\n",
       "      <td>NaN</td>\n",
       "    </tr>\n",
       "  </tbody>\n",
       "</table>\n",
       "</div>"
      ],
      "text/plain": [
       "     year    category   id         firstname      surname  \\\n",
       "903  1901   chemistry  160  Jacobus Henricus  van 't Hoff   \n",
       "904  1901    medicine  293        Emil Adolf  von Behring   \n",
       "905  1901  literature  569             Sully    Prudhomme   \n",
       "906  1901       peace  462        Jean Henry       Dunant   \n",
       "907  1901       peace  463          Frdric        Passy   \n",
       "\n",
       "                                            motivation  \n",
       "903  \"in recognition of the extraordinary services ...  \n",
       "904  \"for his work on serum therapy, especially its...  \n",
       "905  \"in special recognition of his poetic composit...  \n",
       "906                                                NaN  \n",
       "907                                                NaN  "
      ]
     },
     "execution_count": 32,
     "metadata": {},
     "output_type": "execute_result"
    }
   ],
   "source": [
    "winners.tail()"
   ]
  },
  {
   "cell_type": "code",
   "execution_count": 59,
   "id": "6088cf7f",
   "metadata": {},
   "outputs": [
    {
     "data": {
      "image/png": "[encoded data removed]",
      "text/plain": [
       "<Figure size 432x288 with 1 Axes>"
      ]
     },
     "metadata": {
      "needs_background": "light"
     },
     "output_type": "display_data"
    }
   ],
   "source": [
    "sns.boxplot(data=nobel, x='share',y='id')\n",
    "plt.show()"
   ]
  },
  {
   "cell_type": "code",
   "execution_count": 67,
   "id": "bd857c4d",
   "metadata": {},
   "outputs": [
    {
     "data": {
      "image/png": "[encoded data removed]",
      "text/plain": [
       "<Figure size 432x288 with 1 Axes>"
      ]
     },
     "metadata": {
      "needs_background": "light"
     },
     "output_type": "display_data"
    }
   ],
   "source": [
    "nobel.groupby(['share'])['year'].mean().plot.bar()\n",
    "plt.show()"
   ]
  },
  {
   "cell_type": "code",
   "execution_count": 68,
   "id": "7b6f43d8",
   "metadata": {},
   "outputs": [
    {
     "data": {
      "image/png": "[encoded data removed]",
      "text/plain": [
       "<Figure size 432x288 with 1 Axes>"
      ]
     },
     "metadata": {
      "needs_background": "light"
     },
     "output_type": "display_data"
    }
   ],
   "source": [
    "sns.boxplot(data=nobel,x='share',y='year')\n",
    "plt.show()"
   ]
  },
  {
   "cell_type": "code",
   "execution_count": 73,
   "id": "6b827260",
   "metadata": {},
   "outputs": [
    {
     "data": {
      "image/png": "[encoded data removed]",
      "text/plain": [
       "<Figure size 432x288 with 1 Axes>"
      ]
     },
     "metadata": {
      "needs_background": "light"
     },
     "output_type": "display_data"
    }
   ],
   "source": [
    "nobel.groupby(['share'])['id'].mean().plot.bar()\n",
    "plt.show()"
   ]
  },
  {
   "cell_type": "code",
   "execution_count": 74,
   "id": "520837ad",
   "metadata": {},
   "outputs": [
    {
     "data": {
      "image/png": "[encoded data removed]",
      "text/plain": [
       "<Figure size 432x288 with 1 Axes>"
      ]
     },
     "metadata": {
      "needs_background": "light"
     },
     "output_type": "display_data"
    }
   ],
   "source": [
    "sns.boxplot(data=nobel,x='share',y='id')\n",
    "plt.show()"
   ]
  },
  {
   "cell_type": "code",
   "execution_count": null,
   "id": "1b9621de",
   "metadata": {},
   "outputs": [],
   "source": []
  }
 ],
 "metadata": {
  "kernelspec": {
   "display_name": "Python 3 (ipykernel)",
   "language": "python",
   "name": "python3"
  },
  "language_info": {
   "codemirror_mode": {
    "name": "ipython",
    "version": 3
   },
   "file_extension": ".py",
   "mimetype": "text/x-python",
   "name": "python",
   "nbconvert_exporter": "python",
   "pygments_lexer": "ipython3",
   "version": "3.9.12"
  }
 },
 "nbformat": 4,
 "nbformat_minor": 5
}
